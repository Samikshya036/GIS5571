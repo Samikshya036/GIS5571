{
 "cells": [
  {
   "cell_type": "code",
   "execution_count": 9,
   "metadata": {},
   "outputs": [],
   "source": [
    "import requests\n",
    "import numpy as np\n",
    "import sys\n",
    "import pandas as pd"
   ]
  },
  {
   "cell_type": "code",
   "execution_count": 2,
   "metadata": {},
   "outputs": [],
   "source": [
    "Working_dir = r\"C:\\Users\\subed036\\Documents\\ArcGIS\\Projects\\LAB3PART2\\LAB3PART2.gdb\""
   ]
  },
  {
   "cell_type": "code",
   "execution_count": 3,
   "metadata": {},
   "outputs": [],
   "source": [
    "arcpy.env.workspace = Working_dir"
   ]
  },
  {
   "cell_type": "code",
   "execution_count": 5,
   "metadata": {},
   "outputs": [],
   "source": [
    "ndawn_url = \"https://ndawn.ndsu.nodak.edu/table.csv?station=78&station=111&station=98&station=174&station=142&station=138&station=161&station=9&station=10&station=118&station=56&station=11&station=12&station=58&station=13&station=84&station=55&station=7&station=87&station=14&station=15&station=96&station=16&station=137&station=124&station=143&station=17&station=85&station=140&station=134&station=18&station=136&station=65&station=104&station=99&station=19&station=129&station=20&station=101&station=81&station=21&station=97&station=22&station=75&station=2&station=172&station=139&station=23&station=62&station=86&station=24&station=89&station=126&station=93&station=90&station=25&station=83&station=107&station=156&station=77&station=26&station=70&station=127&station=27&station=132&station=28&station=29&station=30&station=31&station=102&station=32&station=119&station=4&station=80&station=33&station=59&station=105&station=82&station=34&station=72&station=135&station=35&station=76&station=120&station=141&station=109&station=36&station=79&station=71&station=37&station=38&station=39&station=130&station=73&station=40&station=41&station=54&station=69&station=113&station=128&station=42&station=43&station=103&station=116&station=88&station=114&station=3&station=163&station=64&station=115&station=67&station=44&station=133&station=106&station=100&station=121&station=45&station=46&station=61&station=66&station=74&station=60&station=125&station=8&station=47&station=122&station=108&station=5&station=152&station=48&station=68&station=49&station=50&station=91&station=117&station=63&station=150&station=51&station=6&station=52&station=92&station=112&station=131&station=123&station=95&station=53&station=57&station=149&station=148&station=110&variable=ddmxt&variable=ddmnt&variable=ddavt&dfn=&ttype=daily&quick_pick=30_d\""
   ]
  },
  {
   "cell_type": "code",
   "execution_count": 6,
   "metadata": {},
   "outputs": [],
   "source": [
    "data_req = requests.get(ndawn_url)"
   ]
  },
  {
   "cell_type": "code",
   "execution_count": 10,
   "metadata": {},
   "outputs": [
    {
     "data": {
      "text/html": [
       "<div>\n",
       "<style scoped>\n",
       "    .dataframe tbody tr th:only-of-type {\n",
       "        vertical-align: middle;\n",
       "    }\n",
       "\n",
       "    .dataframe tbody tr th {\n",
       "        vertical-align: top;\n",
       "    }\n",
       "\n",
       "    .dataframe thead th {\n",
       "        text-align: right;\n",
       "    }\n",
       "</style>\n",
       "<table border=\"1\" class=\"dataframe\">\n",
       "  <thead>\n",
       "    <tr style=\"text-align: right;\">\n",
       "      <th></th>\n",
       "      <th>Station Name</th>\n",
       "      <th>Latitude</th>\n",
       "      <th>Longitude</th>\n",
       "      <th>Elevation</th>\n",
       "      <th>Year</th>\n",
       "      <th>Month</th>\n",
       "      <th>Day</th>\n",
       "      <th>Max Temp</th>\n",
       "      <th>Max Temp Flag</th>\n",
       "      <th>Normal Max Temp</th>\n",
       "      <th>Departure from Normal Daily Maximum Air Temperature</th>\n",
       "      <th>Departure from Normal Daily Maximum Air Temperature Flag</th>\n",
       "      <th>Min Temp</th>\n",
       "      <th>Min Temp Flag</th>\n",
       "      <th>Normal Min Temp</th>\n",
       "      <th>Departure from Normal Daily Minimum Air Temperature</th>\n",
       "      <th>Departure from Normal Daily Minimum Air Temperature Flag</th>\n",
       "      <th>Avg Temp</th>\n",
       "      <th>Avg Temp Flag</th>\n",
       "      <th>Normal Avg Temp</th>\n",
       "      <th>Departure from Normal Avg Temp</th>\n",
       "    </tr>\n",
       "  </thead>\n",
       "  <tbody>\n",
       "    <tr>\n",
       "      <th>1</th>\n",
       "      <td>Ada</td>\n",
       "      <td>47.32119</td>\n",
       "      <td>-96.51406</td>\n",
       "      <td>910</td>\n",
       "      <td>2022.0</td>\n",
       "      <td>11.0</td>\n",
       "      <td>8.0</td>\n",
       "      <td>43.718</td>\n",
       "      <td>NaN</td>\n",
       "      <td>40.73</td>\n",
       "      <td>2.988</td>\n",
       "      <td>NaN</td>\n",
       "      <td>35.847</td>\n",
       "      <td>NaN</td>\n",
       "      <td>22.28</td>\n",
       "      <td>13.567</td>\n",
       "      <td>NaN</td>\n",
       "      <td>39.783</td>\n",
       "      <td>NaN</td>\n",
       "      <td>31.50</td>\n",
       "      <td>8.283</td>\n",
       "    </tr>\n",
       "    <tr>\n",
       "      <th>2</th>\n",
       "      <td>Ada</td>\n",
       "      <td>47.32119</td>\n",
       "      <td>-96.51406</td>\n",
       "      <td>910</td>\n",
       "      <td>2022.0</td>\n",
       "      <td>11.0</td>\n",
       "      <td>9.0</td>\n",
       "      <td>42.922</td>\n",
       "      <td>NaN</td>\n",
       "      <td>40.14</td>\n",
       "      <td>2.782</td>\n",
       "      <td>NaN</td>\n",
       "      <td>30.760</td>\n",
       "      <td>NaN</td>\n",
       "      <td>21.77</td>\n",
       "      <td>8.990</td>\n",
       "      <td>NaN</td>\n",
       "      <td>36.841</td>\n",
       "      <td>NaN</td>\n",
       "      <td>30.95</td>\n",
       "      <td>5.891</td>\n",
       "    </tr>\n",
       "    <tr>\n",
       "      <th>3</th>\n",
       "      <td>Ada</td>\n",
       "      <td>47.32119</td>\n",
       "      <td>-96.51406</td>\n",
       "      <td>910</td>\n",
       "      <td>2022.0</td>\n",
       "      <td>11.0</td>\n",
       "      <td>10.0</td>\n",
       "      <td>31.653</td>\n",
       "      <td>NaN</td>\n",
       "      <td>39.54</td>\n",
       "      <td>-7.887</td>\n",
       "      <td>NaN</td>\n",
       "      <td>22.874</td>\n",
       "      <td>NaN</td>\n",
       "      <td>21.37</td>\n",
       "      <td>1.504</td>\n",
       "      <td>NaN</td>\n",
       "      <td>27.264</td>\n",
       "      <td>NaN</td>\n",
       "      <td>30.45</td>\n",
       "      <td>-3.186</td>\n",
       "    </tr>\n",
       "    <tr>\n",
       "      <th>4</th>\n",
       "      <td>Ada</td>\n",
       "      <td>47.32119</td>\n",
       "      <td>-96.51406</td>\n",
       "      <td>910</td>\n",
       "      <td>2022.0</td>\n",
       "      <td>11.0</td>\n",
       "      <td>11.0</td>\n",
       "      <td>22.933</td>\n",
       "      <td>NaN</td>\n",
       "      <td>38.94</td>\n",
       "      <td>-16.007</td>\n",
       "      <td>NaN</td>\n",
       "      <td>18.009</td>\n",
       "      <td>NaN</td>\n",
       "      <td>20.87</td>\n",
       "      <td>-2.861</td>\n",
       "      <td>NaN</td>\n",
       "      <td>20.471</td>\n",
       "      <td>NaN</td>\n",
       "      <td>29.91</td>\n",
       "      <td>-9.439</td>\n",
       "    </tr>\n",
       "    <tr>\n",
       "      <th>5</th>\n",
       "      <td>Ada</td>\n",
       "      <td>47.32119</td>\n",
       "      <td>-96.51406</td>\n",
       "      <td>910</td>\n",
       "      <td>2022.0</td>\n",
       "      <td>11.0</td>\n",
       "      <td>12.0</td>\n",
       "      <td>19.850</td>\n",
       "      <td>NaN</td>\n",
       "      <td>38.34</td>\n",
       "      <td>-18.490</td>\n",
       "      <td>NaN</td>\n",
       "      <td>16.808</td>\n",
       "      <td>NaN</td>\n",
       "      <td>20.37</td>\n",
       "      <td>-3.562</td>\n",
       "      <td>NaN</td>\n",
       "      <td>18.329</td>\n",
       "      <td>NaN</td>\n",
       "      <td>29.36</td>\n",
       "      <td>-11.031</td>\n",
       "    </tr>\n",
       "    <tr>\n",
       "      <th>...</th>\n",
       "      <td>...</td>\n",
       "      <td>...</td>\n",
       "      <td>...</td>\n",
       "      <td>...</td>\n",
       "      <td>...</td>\n",
       "      <td>...</td>\n",
       "      <td>...</td>\n",
       "      <td>...</td>\n",
       "      <td>...</td>\n",
       "      <td>...</td>\n",
       "      <td>...</td>\n",
       "      <td>...</td>\n",
       "      <td>...</td>\n",
       "      <td>...</td>\n",
       "      <td>...</td>\n",
       "      <td>...</td>\n",
       "      <td>...</td>\n",
       "      <td>...</td>\n",
       "      <td>...</td>\n",
       "      <td>...</td>\n",
       "      <td>...</td>\n",
       "    </tr>\n",
       "    <tr>\n",
       "      <th>4226</th>\n",
       "      <td>Zeeland</td>\n",
       "      <td>46.01351</td>\n",
       "      <td>-99.68768</td>\n",
       "      <td>2070</td>\n",
       "      <td>2022.0</td>\n",
       "      <td>12.0</td>\n",
       "      <td>3.0</td>\n",
       "      <td>20.611</td>\n",
       "      <td>NaN</td>\n",
       "      <td>31.23</td>\n",
       "      <td>-10.619</td>\n",
       "      <td>NaN</td>\n",
       "      <td>-11.020</td>\n",
       "      <td>NaN</td>\n",
       "      <td>11.52</td>\n",
       "      <td>-22.540</td>\n",
       "      <td>NaN</td>\n",
       "      <td>4.796</td>\n",
       "      <td>NaN</td>\n",
       "      <td>21.38</td>\n",
       "      <td>-16.584</td>\n",
       "    </tr>\n",
       "    <tr>\n",
       "      <th>4227</th>\n",
       "      <td>Zeeland</td>\n",
       "      <td>46.01351</td>\n",
       "      <td>-99.68768</td>\n",
       "      <td>2070</td>\n",
       "      <td>2022.0</td>\n",
       "      <td>12.0</td>\n",
       "      <td>4.0</td>\n",
       "      <td>36.171</td>\n",
       "      <td>NaN</td>\n",
       "      <td>30.81</td>\n",
       "      <td>5.361</td>\n",
       "      <td>NaN</td>\n",
       "      <td>1.238</td>\n",
       "      <td>NaN</td>\n",
       "      <td>11.19</td>\n",
       "      <td>-9.952</td>\n",
       "      <td>NaN</td>\n",
       "      <td>18.705</td>\n",
       "      <td>NaN</td>\n",
       "      <td>21.00</td>\n",
       "      <td>-2.295</td>\n",
       "    </tr>\n",
       "    <tr>\n",
       "      <th>4228</th>\n",
       "      <td>Zeeland</td>\n",
       "      <td>46.01351</td>\n",
       "      <td>-99.68768</td>\n",
       "      <td>2070</td>\n",
       "      <td>2022.0</td>\n",
       "      <td>12.0</td>\n",
       "      <td>5.0</td>\n",
       "      <td>22.087</td>\n",
       "      <td>NaN</td>\n",
       "      <td>30.36</td>\n",
       "      <td>-8.273</td>\n",
       "      <td>NaN</td>\n",
       "      <td>6.548</td>\n",
       "      <td>NaN</td>\n",
       "      <td>10.91</td>\n",
       "      <td>-4.362</td>\n",
       "      <td>NaN</td>\n",
       "      <td>14.318</td>\n",
       "      <td>NaN</td>\n",
       "      <td>20.63</td>\n",
       "      <td>-6.312</td>\n",
       "    </tr>\n",
       "    <tr>\n",
       "      <th>4229</th>\n",
       "      <td>Zeeland</td>\n",
       "      <td>46.01351</td>\n",
       "      <td>-99.68768</td>\n",
       "      <td>2070</td>\n",
       "      <td>2022.0</td>\n",
       "      <td>12.0</td>\n",
       "      <td>6.0</td>\n",
       "      <td>20.197</td>\n",
       "      <td>NaN</td>\n",
       "      <td>29.94</td>\n",
       "      <td>-9.743</td>\n",
       "      <td>NaN</td>\n",
       "      <td>2.876</td>\n",
       "      <td>NaN</td>\n",
       "      <td>10.58</td>\n",
       "      <td>-7.704</td>\n",
       "      <td>NaN</td>\n",
       "      <td>11.537</td>\n",
       "      <td>NaN</td>\n",
       "      <td>20.26</td>\n",
       "      <td>-8.723</td>\n",
       "    </tr>\n",
       "    <tr>\n",
       "      <th>4230</th>\n",
       "      <td>Zeeland</td>\n",
       "      <td>46.01351</td>\n",
       "      <td>-99.68768</td>\n",
       "      <td>2070</td>\n",
       "      <td>2022.0</td>\n",
       "      <td>12.0</td>\n",
       "      <td>7.0</td>\n",
       "      <td>3.614</td>\n",
       "      <td>NaN</td>\n",
       "      <td>29.54</td>\n",
       "      <td>-25.926</td>\n",
       "      <td>NaN</td>\n",
       "      <td>-3.856</td>\n",
       "      <td>NaN</td>\n",
       "      <td>10.28</td>\n",
       "      <td>-14.136</td>\n",
       "      <td>NaN</td>\n",
       "      <td>-0.121</td>\n",
       "      <td>NaN</td>\n",
       "      <td>19.91</td>\n",
       "      <td>-20.031</td>\n",
       "    </tr>\n",
       "  </tbody>\n",
       "</table>\n",
       "<p>4230 rows × 21 columns</p>\n",
       "</div>"
      ],
      "text/plain": [
       "     Station Name  Latitude  ... Normal Avg Temp Departure from Normal Avg Temp\n",
       "1             Ada  47.32119  ...           31.50                          8.283\n",
       "2             Ada  47.32119  ...           30.95                          5.891\n",
       "3             Ada  47.32119  ...           30.45                         -3.186\n",
       "4             Ada  47.32119  ...           29.91                         -9.439\n",
       "5             Ada  47.32119  ...           29.36                        -11.031\n",
       "...           ...       ...  ...             ...                            ...\n",
       "4226      Zeeland  46.01351  ...           21.38                        -16.584\n",
       "4227      Zeeland  46.01351  ...           21.00                         -2.295\n",
       "4228      Zeeland  46.01351  ...           20.63                         -6.312\n",
       "4229      Zeeland  46.01351  ...           20.26                         -8.723\n",
       "4230      Zeeland  46.01351  ...           19.91                        -20.031\n",
       "\n",
       "[4230 rows x 21 columns]"
      ]
     },
     "execution_count": 10,
     "metadata": {},
     "output_type": "execute_result"
    }
   ],
   "source": [
    "with open('AvgTemp_AllStations.csv', 'w') as AvgTempsAll:\n",
    "    AvgTempsAll.write(data_req.content.decode('utf-8')) #decode with unicode 8 parameters\n",
    "avg_temp_df = pd.read_csv('AvgTemp_AllStations.csv', skiprows = 5)\n",
    "avg_temp_df = avg_temp_df.iloc[1:] #initializes df from row 2 to skip the messy labels in row index 0\n",
    "avg_temp_df"
   ]
  },
  {
   "cell_type": "code",
   "execution_count": 11,
   "metadata": {},
   "outputs": [],
   "source": [
    "avg_temp_df.to_csv('AveTempOfAllStat.csv')"
   ]
  },
  {
   "cell_type": "code",
   "execution_count": 22,
   "metadata": {},
   "outputs": [
    {
     "data": {
      "text/html": [
       "<div class='gpresult'><h2>Messages</h2><div id='messages' data-messages='[\"Start Time: Thursday, December 8, 2022 4:04:04 PM\",\"Succeeded at Thursday, December 8, 2022 4:04:06 PM (Elapsed Time: 2.21 seconds)\"]' data-show='true'><div id = 'default' /></div></div>"
      ],
      "text/plain": [
       "<Result 'C:\\\\Users\\\\subed036\\\\Documents\\\\ArcGIS\\\\Projects\\\\LAB3PART2\\\\LAB3PART2.gdb\\\\AveTempOfAllStat_XYTableToPoint3'>"
      ]
     },
     "execution_count": 22,
     "metadata": {},
     "output_type": "execute_result"
    }
   ],
   "source": [
    "arcpy.management.XYTableToPoint(r\"C:\\Users\\subed036\\Documents\\ArcGIS\\Projects\\LAB3PART2\\AveTempOfAllStat.csv\", r\"C:\\Users\\subed036\\Documents\\ArcGIS\\Projects\\LAB3PART2\\LAB3PART2.gdb\\AveTempOfAllStat_XYTableToPoint3\", \"Longitude\", \"Latitude\", None, 'GEOGCS[\"GCS_WGS_1984\",DATUM[\"D_WGS_1984\",SPHEROID[\"WGS_1984\",6378137.0,298.257223563]],PRIMEM[\"Greenwich\",0.0],UNIT[\"Degree\",0.0174532925199433]];-400 -400 1000000000;-100000 10000;-100000 10000;8.98315284119521E-09;0.001;0.001;IsHighPrecision')"
   ]
  },
  {
   "cell_type": "code",
   "execution_count": 23,
   "metadata": {},
   "outputs": [],
   "source": [
    "#idw"
   ]
  },
  {
   "cell_type": "code",
   "execution_count": 24,
   "metadata": {},
   "outputs": [],
   "source": [
    "with arcpy.EnvManager(extent='-104.84179 45.3439900000001 -93.85014 48.9637500000001 GEOGCS[\"GCS_WGS_1984\",DATUM[\"D_WGS_1984\",SPHEROID[\"WGS_1984\",6378137.0,298.257223563]],PRIMEM[\"Greenwich\",0.0],UNIT[\"Degree\",0.0174532925199433]]', mask=\"AveTempOfAllStat_XYTableToPoint3\"):\n",
    "    arcpy.ddd.Idw(\"AveTempOfAllStat_XYTableToPoint3\", \"Avg_Temp\", r\"C:\\Users\\subed036\\Documents\\ArcGIS\\Projects\\LAB3PART2\\LAB3PART2.gdb\\Idw_AveTempO1\", 0.0144790399999999, 2, \"VARIABLE 12\", None)"
   ]
  },
  {
   "cell_type": "code",
   "execution_count": 25,
   "metadata": {},
   "outputs": [],
   "source": [
    "#krigging"
   ]
  },
  {
   "cell_type": "code",
   "execution_count": 26,
   "metadata": {},
   "outputs": [
    {
     "data": {
      "text/html": [
       "<div class='gpresult'><h2>Messages</h2><div id='messages' data-messages='[\"Start Time: Thursday, December 8, 2022 4:11:54 PM\",\"SPHERICAL\\nLag size\\t\\t= nan(snan)\\nPartial sill\\t= nan(snan)\\nNugget\\t\\t= nan(snan)\\nMajor range\\t= nan(snan)\",\"Succeeded at Thursday, December 8, 2022 4:11:56 PM (Elapsed Time: 1.99 seconds)\"]' data-show='true'><div id = 'default' /></div></div>"
      ],
      "text/plain": [
       "<Result 'C:\\\\Users\\\\subed036\\\\Documents\\\\ArcGIS\\\\Projects\\\\LAB3PART2\\\\LAB3PART2.gdb\\\\Kriging_AveT1'>"
      ]
     },
     "execution_count": 26,
     "metadata": {},
     "output_type": "execute_result"
    }
   ],
   "source": [
    "arcpy.ddd.Kriging(\"AveTempOfAllStat_XYTableToPoint3\", \"Avg_Temp\", r\"C:\\Users\\subed036\\Documents\\ArcGIS\\Projects\\LAB3PART2\\LAB3PART2.gdb\\Kriging_AveT1\", \"Spherical # # # #\", 0.0144790399999999, \"VARIABLE 12\", None)"
   ]
  },
  {
   "cell_type": "code",
   "execution_count": 27,
   "metadata": {},
   "outputs": [],
   "source": [
    "#spline"
   ]
  },
  {
   "cell_type": "code",
   "execution_count": 31,
   "metadata": {},
   "outputs": [
    {
     "data": {
      "text/html": [
       "<div class='gpresult'><h2>Messages</h2><div id='messages' data-messages='[\"Start Time: Thursday, December 8, 2022 4:14:21 PM\",\"Succeeded at Thursday, December 8, 2022 4:14:23 PM (Elapsed Time: 1.93 seconds)\"]' data-show='true'><div id = 'default' /></div></div>"
      ],
      "text/plain": [
       "<Result 'C:\\\\Users\\\\subed036\\\\Documents\\\\ArcGIS\\\\Projects\\\\LAB3PART2\\\\LAB3PART2.gdb\\\\Spline_AveTe3'>"
      ]
     },
     "execution_count": 31,
     "metadata": {},
     "output_type": "execute_result"
    }
   ],
   "source": [
    "arcpy.ddd.Spline(\"AveTempOfAllStat_XYTableToPoint3\", \"Avg_Temp\", r\"C:\\Users\\subed036\\Documents\\ArcGIS\\Projects\\LAB3PART2\\LAB3PART2.gdb\\Spline_AveTe3\", 0.0144790399999999, \"REGULARIZED\", 0.1, 12)"
   ]
  },
  {
   "cell_type": "code",
   "execution_count": 32,
   "metadata": {},
   "outputs": [],
   "source": [
    "#Natural Neighbour"
   ]
  },
  {
   "cell_type": "code",
   "execution_count": 33,
   "metadata": {},
   "outputs": [
    {
     "data": {
      "text/html": [
       "<div class='gpresult'><h2>Messages</h2><div id='messages' data-messages='[\"Start Time: Thursday, December 8, 2022 4:17:13 PM\",\"Succeeded at Thursday, December 8, 2022 4:17:15 PM (Elapsed Time: 2.08 seconds)\"]' data-show='true'><div id = 'default' /></div></div>"
      ],
      "text/plain": [
       "<Result 'C:\\\\Users\\\\subed036\\\\Documents\\\\ArcGIS\\\\Projects\\\\LAB3PART2\\\\LAB3PART2.gdb\\\\Natural_AveT1'>"
      ]
     },
     "execution_count": 33,
     "metadata": {},
     "output_type": "execute_result"
    }
   ],
   "source": [
    "arcpy.ddd.NaturalNeighbor(\"AveTempOfAllStat_XYTableToPoint3\", \"Avg_Temp\", r\"C:\\Users\\subed036\\Documents\\ArcGIS\\Projects\\LAB3PART2\\LAB3PART2.gdb\\Natural_AveT1\", 0.0144790399999999)"
   ]
  },
  {
   "cell_type": "code",
   "execution_count": 35,
   "metadata": {},
   "outputs": [],
   "source": [
    "#IDW max.temp"
   ]
  },
  {
   "cell_type": "code",
   "execution_count": 37,
   "metadata": {},
   "outputs": [
    {
     "data": {
      "text/html": [
       "<div class='gpresult'><h2>Messages</h2><div id='messages' data-messages='[\"Start Time: Thursday, December 8, 2022 4:27:51 PM\",\"Succeeded at Thursday, December 8, 2022 4:27:53 PM (Elapsed Time: 1.67 seconds)\"]' data-show='true'><div id = 'default' /></div></div>"
      ],
      "text/plain": [
       "<Result 'C:\\\\Users\\\\subed036\\\\Documents\\\\ArcGIS\\\\Projects\\\\LAB3PART2\\\\LAB3PART2.gdb\\\\Idw_AveTempO5'>"
      ]
     },
     "execution_count": 37,
     "metadata": {},
     "output_type": "execute_result"
    }
   ],
   "source": [
    "arcpy.ddd.Idw(\"AveTempOfAllStat_XYTableToPoint3\", \"Max_Temp\", r\"C:\\Users\\subed036\\Documents\\ArcGIS\\Projects\\LAB3PART2\\LAB3PART2.gdb\\Idw_AveTempO5\", 0.0144790399999999, 2, \"VARIABLE 12\", None)"
   ]
  },
  {
   "cell_type": "code",
   "execution_count": 38,
   "metadata": {},
   "outputs": [],
   "source": [
    "#IDW min.temp"
   ]
  },
  {
   "cell_type": "code",
   "execution_count": 39,
   "metadata": {},
   "outputs": [
    {
     "data": {
      "text/html": [
       "<div class='gpresult'><h2>Messages</h2><div id='messages' data-messages='[\"Start Time: Thursday, December 8, 2022 4:29:08 PM\",\"Succeeded at Thursday, December 8, 2022 4:29:10 PM (Elapsed Time: 1.68 seconds)\"]' data-show='true'><div id = 'default' /></div></div>"
      ],
      "text/plain": [
       "<Result 'C:\\\\Users\\\\subed036\\\\Documents\\\\ArcGIS\\\\Projects\\\\LAB3PART2\\\\LAB3PART2.gdb\\\\Idw_AveTempO6'>"
      ]
     },
     "execution_count": 39,
     "metadata": {},
     "output_type": "execute_result"
    }
   ],
   "source": [
    "arcpy.ddd.Idw(\"AveTempOfAllStat_XYTableToPoint3\", \"Min_Temp\", r\"C:\\Users\\subed036\\Documents\\ArcGIS\\Projects\\LAB3PART2\\LAB3PART2.gdb\\Idw_AveTempO6\", 0.0144790399999999, 2, \"VARIABLE 12\", None)"
   ]
  }
 ],
 "metadata": {
  "kernelspec": {
   "display_name": "ArcGISPro",
   "language": "Python",
   "name": "python3"
  },
  "language_info": {
   "file_extension": ".py",
   "name": "python",
   "version": "3"
  }
 },
 "nbformat": 4,
 "nbformat_minor": 2
}
