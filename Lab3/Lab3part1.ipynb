{
 "cells": [
  {
   "cell_type": "code",
   "execution_count": 1,
   "metadata": {},
   "outputs": [],
   "source": [
    "import arcpy\n",
    "import requests\n",
    "import os\n",
    "import zipfile\n",
    "import io\n",
    "import sys"
   ]
  },
  {
   "cell_type": "code",
   "execution_count": 1,
   "metadata": {},
   "outputs": [
    {
     "data": {
      "text/html": [
       "<div class='gpresult'><h2>Messages</h2><div id='messages' data-messages='[\"Start Time: Wednesday, November 2, 2022 5:23:03 PM\",\"Dissolving...\",\"Succeeded at Wednesday, November 2, 2022 5:23:06 PM (Elapsed Time: 2.68 seconds)\"]' data-show='true'><div id = 'default' /></div></div>"
      ],
      "text/plain": [
       "<Result 'C:\\\\Users\\\\subed036\\\\Documents\\\\ArcGIS\\\\Projects\\\\Lab2part2\\\\Lab2part2.gdb\\\\mn_county_boundarie_Dissolve'>"
      ]
     },
     "execution_count": 1,
     "metadata": {},
     "output_type": "execute_result"
    }
   ],
   "source": [
    "arcpy.management.Dissolve(\"mn_county_boundaries_multipart\", r\"C:\\Users\\subed036\\Documents\\ArcGIS\\Projects\\Lab2part2\\Lab2part2.gdb\\mn_county_boundarie_Dissolve\", None, None, \"MULTI_PART\", \"DISSOLVE_LINES\", '')"
   ]
  },
  {
   "cell_type": "code",
   "execution_count": 1,
   "metadata": {},
   "outputs": [],
   "source": [
    "out_raster = arcpy.sa.ExtractByMask(\"NLCD 2019 - Land Cover\", \"mn_county_boundarie_Dissolve\", \"INSIDE\", '524966.6376 4853462.8394 637916.1448 4922619.9426 PROJCS[\"NAD_1983_UTM_Zone_15N\",GEOGCS[\"GCS_North_American_1983\",DATUM[\"D_North_American_1983\",SPHEROID[\"GRS_1980\",6378137.0,298.257222101]],PRIMEM[\"Greenwich\",0.0],UNIT[\"Degree\",0.0174532925199433]],PROJECTION[\"Transverse_Mercator\"],PARAMETER[\"False_Easting\",500000.0],PARAMETER[\"False_Northing\",0.0],PARAMETER[\"Central_Meridian\",-93.0],PARAMETER[\"Scale_Factor\",0.9996],PARAMETER[\"Latitude_Of_Origin\",0.0],UNIT[\"Meter\",1.0]]'); out_raster.save(r\"C:\\Users\\subed036\\Documents\\ArcGIS\\Projects\\Lab2part2\\Lab2part2.gdb\\Extract_NLCD1\")"
   ]
  },
  {
   "cell_type": "code",
   "execution_count": 2,
   "metadata": {},
   "outputs": [],
   "source": [
    "out_raster = arcpy.sa.ExtractByMask(\"NLCD 2019 - Imperviousness\", \"mn_county_boundarie_Dissolve\", \"INSIDE\", '524966.6376 4853462.8394 637916.1448 4922619.9426 PROJCS[\"NAD_1983_UTM_Zone_15N\",GEOGCS[\"GCS_North_American_1983\",DATUM[\"D_North_American_1983\",SPHEROID[\"GRS_1980\",6378137.0,298.257222101]],PRIMEM[\"Greenwich\",0.0],UNIT[\"Degree\",0.0174532925199433]],PROJECTION[\"Transverse_Mercator\"],PARAMETER[\"False_Easting\",500000.0],PARAMETER[\"False_Northing\",0.0],PARAMETER[\"Central_Meridian\",-93.0],PARAMETER[\"Scale_Factor\",0.9996],PARAMETER[\"Latitude_Of_Origin\",0.0],UNIT[\"Meter\",1.0]]'); out_raster.save(r\"C:\\Users\\subed036\\Documents\\ArcGIS\\Projects\\Lab2part2\\Lab2part2.gdb\\Extract_NLCD1\")"
   ]
  },
  {
   "cell_type": "code",
   "execution_count": 3,
   "metadata": {},
   "outputs": [],
   "source": [
    "out_raster = arcpy.sa.ExtractByMask(\"digital_elevation_model_30m\", \"mn_county_boundarie_Dissolve\", \"INSIDE\", '524966.6376 4853462.8394 637916.1448 4922619.9426 PROJCS[\"NAD_1983_UTM_Zone_15N\",GEOGCS[\"GCS_North_American_1983\",DATUM[\"D_North_American_1983\",SPHEROID[\"GRS_1980\",6378137.0,298.257222101]],PRIMEM[\"Greenwich\",0.0],UNIT[\"Degree\",0.0174532925199433]],PROJECTION[\"Transverse_Mercator\"],PARAMETER[\"False_Easting\",500000.0],PARAMETER[\"False_Northing\",0.0],PARAMETER[\"Central_Meridian\",-93.0],PARAMETER[\"Scale_Factor\",0.9996],PARAMETER[\"Latitude_Of_Origin\",0.0],UNIT[\"Meter\",1.0]]'); out_raster.save(r\"C:\\Users\\subed036\\Documents\\ArcGIS\\Projects\\Lab2part2\\Lab2part2.gdb\\Extract_digi1\")"
   ]
  },
  {
   "cell_type": "code",
   "execution_count": 4,
   "metadata": {},
   "outputs": [
    {
     "data": {
      "text/html": [
       "<div class='gpresult'><h2>Messages</h2><div id='messages' data-messages='[\"Start Time: Sunday, October 30, 2022 2:30:30 PM\",\"Succeeded at Sunday, October 30, 2022 2:30:38 PM (Elapsed Time: 8.04 seconds)\"]' data-show='true'><div id = 'default' /></div></div>"
      ],
      "text/plain": [
       "<Result 'C:\\\\Users\\\\subed036\\\\Documents\\\\ArcGIS\\\\Projects\\\\Lab2part2\\\\Lab2part2.gdb\\\\Feature_stre1'>"
      ]
     },
     "execution_count": 4,
     "metadata": {},
     "output_type": "execute_result"
    }
   ],
   "source": [
    "arcpy.conversion.FeatureToRaster(\"streams_with_strahler_stream_order\", \"FW_ID\", r\"C:\\Users\\subed036\\Documents\\ArcGIS\\Projects\\Lab2part2\\Lab2part2.gdb\\Feature_stre1\", 2428.2504384)"
   ]
  },
  {
   "cell_type": "markdown",
   "metadata": {},
   "source": [
    "# Extract by mask"
   ]
  },
  {
   "cell_type": "code",
   "execution_count": 5,
   "metadata": {},
   "outputs": [],
   "source": [
    "out_raster = arcpy.sa.ExtractByMask(\"Feature_stre1\", \"mn_county_boundarie_Dissolve\", \"INSIDE\", '524966.6376 4853462.8394 637916.1448 4922619.9426 PROJCS[\"NAD_1983_UTM_Zone_15N\",GEOGCS[\"GCS_North_American_1983\",DATUM[\"D_North_American_1983\",SPHEROID[\"GRS_1980\",6378137.0,298.257222101]],PRIMEM[\"Greenwich\",0.0],UNIT[\"Degree\",0.0174532925199433]],PROJECTION[\"Transverse_Mercator\"],PARAMETER[\"False_Easting\",500000.0],PARAMETER[\"False_Northing\",0.0],PARAMETER[\"Central_Meridian\",-93.0],PARAMETER[\"Scale_Factor\",0.9996],PARAMETER[\"Latitude_Of_Origin\",0.0],UNIT[\"Meter\",1.0]],VERTCS[\"NAD_1983\",DATUM[\"D_North_American_1983\",SPHEROID[\"GRS_1980\",6378137.0,298.257222101]],PARAMETER[\"Vertical_Shift\",0.0],PARAMETER[\"Direction\",1.0],UNIT[\"Meter\",1.0]]'); out_raster.save(r\"C:\\Users\\subed036\\Documents\\ArcGIS\\Projects\\Lab2part2\\Lab2part2.gdb\\Extract_Feat1\")"
   ]
  },
  {
   "cell_type": "code",
   "execution_count": 6,
   "metadata": {},
   "outputs": [
    {
     "data": {
      "text/html": [
       "<div class='gpresult'><h2>Messages</h2><div id='messages' data-messages='[\"Start Time: Sunday, October 30, 2022 2:36:38 PM\",\"Analyzing input features...\",\"Dissolving clip features...\",\"Clipping input features...\",\"Succeeded at Sunday, October 30, 2022 2:36:40 PM (Elapsed Time: 2.91 seconds)\"]' data-show='true'><div id = 'default' /></div></div>"
      ],
      "text/plain": [
       "<Result 'C:\\\\Users\\\\subed036\\\\Documents\\\\ArcGIS\\\\Projects\\\\Lab2part2\\\\Lab2part2.gdb\\\\streams_with_strahler_s_Clip'>"
      ]
     },
     "execution_count": 6,
     "metadata": {},
     "output_type": "execute_result"
    }
   ],
   "source": [
    "arcpy.analysis.Clip(\"streams_with_strahler_stream_order\", \"mn_county_boundarie_Dissolve\", r\"C:\\Users\\subed036\\Documents\\ArcGIS\\Projects\\Lab2part2\\Lab2part2.gdb\\streams_with_strahler_s_Clip\", None)"
   ]
  },
  {
   "cell_type": "markdown",
   "metadata": {},
   "source": [
    "# Streams in the study extent"
   ]
  },
  {
   "cell_type": "code",
   "execution_count": 7,
   "metadata": {},
   "outputs": [
    {
     "data": {
      "text/html": [
       "<div class='gpresult'><h2>Messages</h2><div id='messages' data-messages='[\"Start Time: Sunday, October 30, 2022 2:48:59 PM\",\"Succeeded at Sunday, October 30, 2022 2:49:04 PM (Elapsed Time: 5.03 seconds)\"]' data-show='true'><div id = 'default' /></div></div>"
      ],
      "text/plain": [
       "<Result 'C:\\\\Users\\\\subed036\\\\Documents\\\\ArcGIS\\\\Projects\\\\Lab2part2\\\\Lab2part2.gdb\\\\Feature_stre2'>"
      ]
     },
     "execution_count": 7,
     "metadata": {},
     "output_type": "execute_result"
    }
   ],
   "source": [
    "arcpy.conversion.FeatureToRaster(\"streams_with_strahler_s_Clip\", \"FW_ID\", r\"C:\\Users\\subed036\\Documents\\ArcGIS\\Projects\\Lab2part2\\Lab2part2.gdb\\Feature_stre2\", 276.583641600005)"
   ]
  },
  {
   "cell_type": "code",
   "execution_count": 8,
   "metadata": {},
   "outputs": [],
   "source": [
    "out_raster = arcpy.sa.Reclassify(\"Extract_NLCD2\", \"NLCD_Land\", \"'Open Water' 1;'Developed, Open Space' 2;'Developed, Low Intensity' 3;'Developed, Medium Intensity' 4;'Developed, High Intensity' 5;'Barren Land' 6;'Deciduous Forest' 7;'Evergreen Forest' 8;'Mixed Forest' 9;Shrub/Scrub 10;Herbaceous 11;Hay/Pasture 12;'Cultivated Crops' 13;'Woody Wetlands' 14;'Emergent Herbaceous Wetlands' 15\", \"DATA\"); out_raster.save(r\"C:\\Users\\subed036\\Documents\\ArcGIS\\Projects\\Lab2part2\\Lab2part2.gdb\\Reclass_Extr1\")"
   ]
  },
  {
   "cell_type": "code",
   "execution_count": 9,
   "metadata": {},
   "outputs": [],
   "source": [
    "out_raster = arcpy.sa.Reclassify(\"Extract_NLCD2\", \"NLCD_Land\", \"'Open Water' 9;'Developed, Open Space' 1;'Developed, Low Intensity' 2;'Developed, Medium Intensity' 3;'Developed, High Intensity' 4;'Barren Land' 1;'Deciduous Forest' 6;'Evergreen Forest' 8;'Mixed Forest' 7;Shrub/Scrub 6;Herbaceous 8;Hay/Pasture 12;'Cultivated Crops' 13;'Woody Wetlands' 14;'Emergent Herbaceous Wetlands' 15\", \"DATA\"); out_raster.save(r\"C:\\Users\\subed036\\Documents\\ArcGIS\\Projects\\Lab2part2\\Lab2part2.gdb\\Reclass_Extr1\")"
   ]
  },
  {
   "cell_type": "code",
   "execution_count": 10,
   "metadata": {},
   "outputs": [],
   "source": [
    "out_raster = arcpy.sa.Reclassify(\"out_raster\", \"NLCD_Land\", \"'Developed, Open Space/Barren Land' 1;'Developed, Low Intensity' 2;'Developed, Medium Intensity' 3;'Developed, High Intensity' 4;'Deciduous Forest/Shrub/Scrub' 5;'Mixed Forest' 6;'Evergreen Forest/Herbaceous' 7;'Open Water' 8;Hay/Pasture 9;'Cultivated Crops' 10;'Woody Wetlands' 11;'Emergent Herbaceous Wetlands' 12\", \"DATA\"); out_raster.save(r\"C:\\Users\\subed036\\Documents\\ArcGIS\\Projects\\Lab2part2\\Lab2part2.gdb\\Reclass_Recl2\")"
   ]
  },
  {
   "cell_type": "code",
   "execution_count": 11,
   "metadata": {},
   "outputs": [
    {
     "data": {
      "text/html": [
       "<div class='gpresult'><h2>Messages</h2><div id='messages' data-messages='[\"Start Time: Sunday, October 30, 2022 3:00:21 PM\",\"Succeeded at Sunday, October 30, 2022 3:00:27 PM (Elapsed Time: 5.93 seconds)\"]' data-show='true'><div id = 'default' /></div></div>"
      ],
      "text/plain": [
       "<Result 'C:\\\\Users\\\\subed036\\\\Documents\\\\ArcGIS\\\\Projects\\\\Lab2part2\\\\Lab2part2.gdb\\\\Slope_Extrac1'>"
      ]
     },
     "execution_count": 11,
     "metadata": {},
     "output_type": "execute_result"
    }
   ],
   "source": [
    "arcpy.ddd.Slope(\"Extract_digi1\", r\"C:\\Users\\subed036\\Documents\\ArcGIS\\Projects\\Lab2part2\\Lab2part2.gdb\\Slope_Extrac1\", \"PERCENT_RISE\", 1, \"PLANAR\", \"METER\")"
   ]
  },
  {
   "cell_type": "markdown",
   "metadata": {},
   "source": [
    "# Reclassification"
   ]
  },
  {
   "cell_type": "code",
   "execution_count": 12,
   "metadata": {},
   "outputs": [],
   "source": [
    "out_raster = arcpy.sa.Reclassify(\"Extract_digi1\", \"VALUE\", None, \"DATA\"); out_raster.save(r\"C:\\Users\\subed036\\Documents\\ArcGIS\\Projects\\Lab2part2\\Lab2part2.gdb\\Reclass_Extr2\")"
   ]
  },
  {
   "cell_type": "code",
   "execution_count": 13,
   "metadata": {},
   "outputs": [],
   "source": [
    "out_raster = arcpy.sa.Reclassify(\"Reclass_Slop1\", \"Value\", \"1 1;2 2;3 3;4 4;5 5;6 6;7 7;8 8;9 9;10 9;11 9\", \"DATA\"); out_raster.save(r\"C:\\Users\\subed036\\Documents\\ArcGIS\\Projects\\Lab2part2\\Lab2part2.gdb\\Reclass_Recl3\")"
   ]
  },
  {
   "cell_type": "code",
   "execution_count": 14,
   "metadata": {},
   "outputs": [],
   "source": [
    "out_raster = arcpy.sa.Reclassify(\"out_raster\", \"Value\", \"1 1;2 2;3 3;4 4;5 5;6 6;7 7;8 8;9 9\", \"DATA\"); out_raster.save(r\"C:\\Users\\subed036\\Documents\\ArcGIS\\Projects\\Lab2part2\\Lab2part2.gdb\\Reclass_Recl4\")"
   ]
  },
  {
   "cell_type": "code",
   "execution_count": 15,
   "metadata": {},
   "outputs": [],
   "source": [
    "out_raster = arcpy.sa.WeightedOverlay(r\"('C:\\Users\\subed036\\Documents\\ArcGIS\\Projects\\Lab2part2\\Lab2part2.gdb\\Reclass_Recl4' 25 'Value' (1 1; 2 2; 3 3; 4 4; 5 5; 6 6; 7 7; 8 8; 9 9; NODATA NODATA); 'C:\\Users\\subed036\\Documents\\ArcGIS\\Projects\\Lab2part2\\Lab2part2.gdb\\Reclass_Recl3' 25 'Value' (1 1; 2 2; 3 3; 4 4; 5 5; 6 6; 7 7; 8 8; 9 9; NODATA NODATA); 'C:\\Users\\subed036\\Documents\\ArcGIS\\Projects\\Lab2part2\\Lab2part2.gdb\\Reclass_Extr1' 25 'Value' (1 1; 2 2; 3 3; 4 4; 6 6; 7 7; 8 8; 9 9; 12 1; 13 1; 14 1; 15 1; NODATA NODATA); 'C:\\Users\\subed036\\Documents\\ArcGIS\\Projects\\Lab2part2\\Lab2part2.gdb\\Reclass_Feat1' 25 'Value' (1 1; 8 8; 9 9; NODATA NODATA));1 9 1\"); out_raster.save(r\"C:\\Users\\subed036\\Documents\\ArcGIS\\Projects\\Lab2part2\\Lab2part2.gdb\\Weighte_Recl1\")"
   ]
  },
  {
   "cell_type": "code",
   "execution_count": 16,
   "metadata": {},
   "outputs": [
    {
     "data": {
      "text/html": [
       "<div class='gpresult'><h2>Messages</h2><div id='messages' data-messages='[\"Start Time: Sunday, October 30, 2022 3:35:33 PM\",\"Succeeded at Sunday, October 30, 2022 3:35:35 PM (Elapsed Time: 2.30 seconds)\"]' data-show='true'><div id = 'default' /></div></div>"
      ],
      "text/plain": [
       "<Result 'C:\\\\Users\\\\subed036\\\\Documents\\\\ArcGIS\\\\Projects\\\\Lab2part2\\\\Lab2part2.gdb\\\\Dorilocation_XYTableToPoint'>"
      ]
     },
     "execution_count": 16,
     "metadata": {},
     "output_type": "execute_result"
    }
   ],
   "source": [
    "arcpy.management.XYTableToPoint(r\"C:\\Users\\subed036\\Downloads\\Dori location.csv\", r\"C:\\Users\\subed036\\Documents\\ArcGIS\\Projects\\Lab2part2\\Lab2part2.gdb\\Dorilocation_XYTableToPoint\", \"Lat\", \"Log\", None, 'GEOGCS[\"GCS_WGS_1984\",DATUM[\"D_WGS_1984\",SPHEROID[\"WGS_1984\",6378137.0,298.257223563]],PRIMEM[\"Greenwich\",0.0],UNIT[\"Degree\",0.0174532925199433]];-400 -400 1000000000;-100000 10000;-100000 10000;8.98315284119521E-09;0.001;0.001;IsHighPrecision')"
   ]
  },
  {
   "cell_type": "code",
   "execution_count": 17,
   "metadata": {},
   "outputs": [
    {
     "data": {
      "text/html": [
       "<div class='gpresult'><h2>Messages</h2><div id='messages' data-messages='[\"Start Time: Sunday, October 30, 2022 4:40:18 PM\",\"Succeeded at Sunday, October 30, 2022 4:40:23 PM (Elapsed Time: 4.60 seconds)\"]' data-show='true'><div id = 'default' /></div></div>"
      ],
      "text/plain": [
       "<Result 'C:\\\\Users\\\\subed036\\\\Documents\\\\ArcGIS\\\\Projects\\\\Lab2part2\\\\Lab2part2.gdb\\\\Feature_stre3'>"
      ]
     },
     "execution_count": 17,
     "metadata": {},
     "output_type": "execute_result"
    }
   ],
   "source": [
    "arcpy.conversion.FeatureToRaster(\"streams_with_strahler_s_Clip\", \"FW_ID\", r\"C:\\Users\\subed036\\Documents\\ArcGIS\\Projects\\Lab2part2\\Lab2part2.gdb\\Feature_stre3\", 276.583641600005)"
   ]
  },
  {
   "cell_type": "code",
   "execution_count": 18,
   "metadata": {},
   "outputs": [],
   "source": [
    "out_raster = arcpy.sa.Reclassify(\"Feature_stre3\", \"Value\", \"0 13757 1;13757 27514 2;27514 41271 3;41271 55028 4;55028 68785 5;68785 82542 6;82542 96299 7;96299 110056 8;110056 123813 9;NODATA 1\", \"DATA\"); out_raster.save(r\"C:\\Users\\subed036\\Documents\\ArcGIS\\Projects\\Lab2part2\\Lab2part2.gdb\\Reclass_Feat2\")"
   ]
  },
  {
   "cell_type": "code",
   "execution_count": 19,
   "metadata": {},
   "outputs": [],
   "source": [
    "out_raster = arcpy.sa.ExtractByMask(\"out_raster\", \"mn_county_boundarie_Dissolve\", \"INSIDE\", '524966.6376 4853462.8394 637127.270568802 4922619.9426 PROJCS[\"NAD_1983_UTM_Zone_15N\",GEOGCS[\"GCS_North_American_1983\",DATUM[\"D_North_American_1983\",SPHEROID[\"GRS_1980\",6378137.0,298.257222101]],PRIMEM[\"Greenwich\",0.0],UNIT[\"Degree\",0.0174532925199433]],PROJECTION[\"Transverse_Mercator\"],PARAMETER[\"False_Easting\",500000.0],PARAMETER[\"False_Northing\",0.0],PARAMETER[\"Central_Meridian\",-93.0],PARAMETER[\"Scale_Factor\",0.9996],PARAMETER[\"Latitude_Of_Origin\",0.0],UNIT[\"Meter\",1.0]],VERTCS[\"NAD_1983\",DATUM[\"D_North_American_1983\",SPHEROID[\"GRS_1980\",6378137.0,298.257222101]],PARAMETER[\"Vertical_Shift\",0.0],PARAMETER[\"Direction\",1.0],UNIT[\"Meter\",1.0]]'); out_raster.save(r\"C:\\Users\\subed036\\Documents\\ArcGIS\\Projects\\Lab2part2\\Lab2part2.gdb\\Extract_Recl1\")"
   ]
  },
  {
   "cell_type": "code",
   "execution_count": 20,
   "metadata": {},
   "outputs": [],
   "source": [
    "out_raster = arcpy.sa.WeightedOverlay(r\"('C:\\Users\\subed036\\Documents\\ArcGIS\\Projects\\Lab2part2\\Lab2part2.gdb\\Extract_Recl1' 33 'Value' (1 1; 8 8; 9 9; NODATA NODATA); 'C:\\Users\\subed036\\Documents\\ArcGIS\\Projects\\Lab2part2\\Lab2part2.gdb\\Reclass_Recl4' 33 'Value' (1 1; 2 2; 3 3; 4 4; 5 5; 6 6; 7 7; 8 8; 9 9; NODATA NODATA); 'C:\\Users\\subed036\\Documents\\ArcGIS\\Projects\\Lab2part2\\Lab2part2.gdb\\Reclass_Recl2' 34 'Value' (1 1; 2 2; 3 3; 4 4; 5 5; 6 6; 7 7; 8 8; 9 9; 10 1; 11 1; 12 1; NODATA NODATA));1 9 1\"); out_raster.save(r\"C:\\Users\\subed036\\Documents\\ArcGIS\\Projects\\Lab2part2\\Lab2part2.gdb\\Weighte_Extr1\")"
   ]
  },
  {
   "cell_type": "markdown",
   "metadata": {},
   "source": [
    "# Dori starting point"
   ]
  },
  {
   "cell_type": "code",
   "execution_count": 1,
   "metadata": {},
   "outputs": [],
   "source": [
    "with arcpy.EnvManager(scratchWorkspace=r\"C:\\Users\\subed036\\Documents\\ArcGIS\\Projects\\Lab2part2\\Lab2part2.gdb\", workspace=r\"C:\\Users\\subed036\\Documents\\ArcGIS\\Projects\\Lab2part2\\Lab2part2.gdb\"):\n",
    "    arcpy.management.XYTableToPoint(r\"C:\\Users\\subed036\\Downloads\\Dory Starting Point.csv\", r\"C:\\Users\\subed036\\Documents\\ArcGIS\\Projects\\Lab2part2\\Lab2part2.gdb\\DoryStartingPoint_XYTableToPoint\", \"Long\", \"Lat\", None, 'GEOGCS[\"GCS_WGS_1984\",DATUM[\"D_WGS_1984\",SPHEROID[\"WGS_1984\",6378137.0,298.257223563]],PRIMEM[\"Greenwich\",0.0],UNIT[\"Degree\",0.0174532925199433]];-400 -400 1000000000;-100000 10000;-100000 10000;8.98315284119521E-09;0.001;0.001;IsHighPrecision')"
   ]
  },
  {
   "cell_type": "markdown",
   "metadata": {},
   "source": [
    "# Dori ending point"
   ]
  },
  {
   "cell_type": "code",
   "execution_count": 3,
   "metadata": {},
   "outputs": [
    {
     "data": {
      "text/html": [
       "<div class='gpresult'><h2>Messages</h2><div id='messages' data-messages='[\"Start Time: Thursday, December 8, 2022 5:06:02 PM\",\"Succeeded at Thursday, December 8, 2022 5:06:07 PM (Elapsed Time: 5.25 seconds)\"]' data-show='true'><div id = 'default' /></div></div>"
      ],
      "text/plain": [
       "<Result 'C:\\\\Users\\\\subed036\\\\Documents\\\\ArcGIS\\\\Projects\\\\Lab2part2\\\\Lab2part2.gdb\\\\DoryEndingPoint_XYTableToPoint'>"
      ]
     },
     "execution_count": 3,
     "metadata": {},
     "output_type": "execute_result"
    }
   ],
   "source": [
    "arcpy.management.XYTableToPoint(r\"C:\\Users\\subed036\\Downloads\\Dory Ending Point.csv\", r\"C:\\Users\\subed036\\Documents\\ArcGIS\\Projects\\Lab2part2\\Lab2part2.gdb\\DoryEndingPoint_XYTableToPoint\", \"Long\", \"Lat\", None, 'GEOGCS[\"GCS_WGS_1984\",DATUM[\"D_WGS_1984\",SPHEROID[\"WGS_1984\",6378137.0,298.257223563]],PRIMEM[\"Greenwich\",0.0],UNIT[\"Degree\",0.0174532925199433]];-400 -400 1000000000;-100000 10000;-100000 10000;8.98315284119521E-09;0.001;0.001;IsHighPrecision')"
   ]
  },
  {
   "cell_type": "code",
   "execution_count": 2,
   "metadata": {},
   "outputs": [
    {
     "data": {
      "text/html": [
       "<div class='gpresult'><h2>Messages</h2><div id='messages' data-messages='[\"Start Time: Wednesday, November 2, 2022 8:32:31 PM\",\"Succeeded at Wednesday, November 2, 2022 8:32:40 PM (Elapsed Time: 8.17 seconds)\"]' data-show='true'><div id = 'default' /></div></div>"
      ],
      "text/plain": [
       "<Result 'C:\\\\Users\\\\subed036\\\\Documents\\\\ArcGIS\\\\Projects\\\\Lab2part2\\\\Lab2part2.gdb\\\\DoryStartingPoint_XYTableToPoint1'>"
      ]
     },
     "execution_count": 2,
     "metadata": {},
     "output_type": "execute_result"
    }
   ],
   "source": [
    "arcpy.management.XYTableToPoint(r\"C:\\Users\\subed036\\Downloads\\Dory Starting Point.csv\", r\"C:\\Users\\subed036\\Documents\\ArcGIS\\Projects\\Lab2part2\\Lab2part2.gdb\\DoryStartingPoint_XYTableToPoint1\", \"Long\", \"Lat\", None, 'GEOGCS[\"GCS_WGS_1984\",DATUM[\"D_WGS_1984\",SPHEROID[\"WGS_1984\",6378137.0,298.257223563]],PRIMEM[\"Greenwich\",0.0],UNIT[\"Degree\",0.0174532925199433]];-400 -400 1000000000;-100000 10000;-100000 10000;8.98315284119521E-09;0.001;0.001;IsHighPrecision')"
   ]
  },
  {
   "cell_type": "code",
   "execution_count": 4,
   "metadata": {},
   "outputs": [
    {
     "data": {
      "text/html": [
       "<div class='gpresult'><h2>Messages</h2><div id='messages' data-messages='[\"Start Time: Thursday, December 8, 2022 5:08:16 PM\",\"Succeeded at Thursday, December 8, 2022 5:08:16 PM (Elapsed Time: 0.03 seconds)\"]' data-show='true'><div id = 'default' /></div></div>"
      ],
      "text/plain": [
       "<Result 'mn_county_boundaries_multipart'>"
      ]
     },
     "execution_count": 4,
     "metadata": {},
     "output_type": "execute_result"
    }
   ],
   "source": [
    "arcpy.management.SelectLayerByAttribute(\"mn_county_boundaries_multipart\", \"NEW_SELECTION\", \"COUNTYNAME = 'Wabasha' Or COUNTYNAME = 'Olmsted'\", None)"
   ]
  },
  {
   "cell_type": "markdown",
   "metadata": {},
   "source": [
    "# Cost distance tool"
   ]
  },
  {
   "cell_type": "code",
   "execution_count": 1,
   "metadata": {},
   "outputs": [],
   "source": [
    "out_distance_raster = arcpy.sa.CostDistance(\"DoryStartingPoint_XYTableToPoint1\", \"Weighte_Extr1\", None, None, None, None, None, None, ''); out_distance_raster.save(r\"C:\\Users\\subed036\\Documents\\ArcGIS\\Projects\\Lab2part2\\Lab2part2.gdb\\CostDis_Dory2\")"
   ]
  },
  {
   "cell_type": "markdown",
   "metadata": {},
   "source": [
    "# Cost path as polyline"
   ]
  },
  {
   "cell_type": "code",
   "execution_count": 2,
   "metadata": {},
   "outputs": [
    {
     "data": {
      "text/html": [
       "<div class='gpresult'><h2>Messages</h2><div id='messages' data-messages='[\"Start Time: Thursday, December 8, 2022 5:03:15 PM\",\"Succeeded at Thursday, December 8, 2022 5:03:17 PM (Elapsed Time: 2.12 seconds)\"]' data-show='true'><div id = 'default' /></div></div>"
      ],
      "text/plain": [
       "<geoprocessing server result object object at 0x0000011EDB4D16C0>"
      ]
     },
     "execution_count": 2,
     "metadata": {},
     "output_type": "execute_result"
    }
   ],
   "source": [
    "arcpy.sa.CostPathAsPolyline(\"DoryEndingPoint_XYTableToPoint1\", \"CostDis_Dory2\", \"out_raster\", r\"C:\\Users\\subed036\\Documents\\ArcGIS\\Projects\\Lab2part2\\Lab2part2.gdb\\Dorilocation_XYTableToPoint\", \"EACH_CELL\", \"OBJECTID\", \"INPUT_RANGE\")"
   ]
  },
  {
   "cell_type": "markdown",
   "metadata": {},
   "source": [
    "# Weighted overlay"
   ]
  },
  {
   "cell_type": "code",
   "execution_count": 1,
   "metadata": {},
   "outputs": [],
   "source": [
    "out_raster = arcpy.sa.WeightedOverlay(r\"('C:\\Users\\subed036\\Documents\\ArcGIS\\Projects\\Lab2part2\\Lab2part2.gdb\\Extract_Recl1' 50 'Value' (1 1; 8 8; 9 9; NODATA NODATA); 'C:\\Users\\subed036\\Documents\\ArcGIS\\Projects\\Lab2part2\\Lab2part2.gdb\\Reclass_Extr1' 30 'Value' (1 1; 2 2; 3 3; 4 4; 6 6; 7 7; 8 8; 9 9; 12 1; 13 1; 14 1; 15 1; NODATA NODATA); 'C:\\Users\\subed036\\Documents\\ArcGIS\\Projects\\Lab2part2\\Lab2part2.gdb\\Feature_stre2' 20 'Value' (0 1; 103383 1; 103761 1; 104589 1; 104621 1; 104624 1; 104626 1; 104687 1; 104692 1; 104695 1; 104696 1; 104702 1; 104703 1; 104705 1; 104706 1; 104707 1; 104708 1; 104709 1; 104710 1; 104711 1; 104712 1; 104714 1; 104715 1; 104717 1; 104718 1; 104719 1; 104721 1; 104722 1; 104724 1; 104725 1; 104735 1; 104736 1; 104737 1; 104738 1; 104740 1; 104741 1; 104742 1; 104743 1; 104744 1; 104745 1; 104746 1; 104747 1; 104748 1; 104749 1; 104751 1; 104752 1; 104753 1; 104754 1; 104755 1; 104806 1; 104807 1; 104812 1; 104813 1; 104814 1; 104821 1; 104856 1; 104857 1; 104858 1; 104859 1; 104860 1; 104861 1; 104862 1; 104863 1; 104864 1; 104865 1; 104867 1; 104868 1; 104869 1; 104870 1; 104871 1; 104872 1; 104873 1; 104874 1; 104875 1; 104876 1; 104877 1; 104878 1; 104879 1; 104880 1; 104881 1; 104882 1; 104883 1; 104884 1; 104885 1; 104886 1; 104887 1; 104888 1; 104889 1; 104890 1; 104891 1; 104895 1; 104896 1; 104897 1; 104898 1; 104899 1; 104900 1; 104901 1; 104902 1; 104904 1; 104906 1; 104910 1; 104911 1; 104912 1; 104914 1; 104916 1; 104919 1; 104920 1; 104921 1; 104922 1; 104923 1; 104924 1; 104925 1; 104926 1; 104927 1; 104928 1; 104929 1; 104930 1; 104931 1; 104932 1; 104933 1; 104934 1; 104935 1; 104936 1; 104937 1; 104938 1; 104939 1; 104940 1; 104941 1; 104942 1; 104943 1; 104944 1; 104945 1; 104946 1; 104947 1; 104948 1; 104949 1; 104951 1; 104952 1; 104953 1; 104954 1; 104955 1; 104956 1; 104957 1; 104958 1; 104959 1; 104960 1; 104961 1; 104962 1; 104963 1; 104964 1; 104965 1; 104966 1; 104967 1; 104968 1; 104969 1; 104970 1; 104971 1; 104972 1; 104973 1; 104974 1; 104975 1; 104976 1; 104977 1; 104978 1; 104979 1; 104980 1; 104982 1; 104983 1; 104984 1; 104985 1; 104986 1; 104987 1; 104988 1; 104989 1; 104990 1; 104991 1; 104992 1; 104993 1; 104994 1; 104995 1; 104996 1; 104997 1; 104999 1; 105000 1; 105001 1; 105002 1; 105003 1; 105004 1; 105005 1; 105006 1; 105007 1; 105008 1; 105009 1; 105010 1; 105038 1; 105039 1; 105040 1; 105042 1; 105043 1; 105044 1; 105045 1; 105047 1; 105061 1; 105063 1; 105064 1; 105065 1; 105066 1; 105067 1; 105069 1; 105070 1; 105071 1; 105072 1; 105073 1; 105074 1; 105075 1; 114869 1; 119024 1; 119027 1; 119028 1; 119029 1; 119033 1; 119037 1; 119038 1; 119040 1; 119041 1; 119042 1; 119043 1; 119044 1; 119050 1; 119051 1; 119052 1; 119054 1; 119056 1; 119057 1; 119058 1; 119059 1; 119060 1; 119061 1; 119062 1; 119063 1; 119064 1; 119065 1; 119066 1; 119067 1; 119069 1; 119070 1; 119071 1; 119072 1; 119073 1; 119074 1; 119075 1; 119076 1; 119077 1; 119078 1; 119079 1; 119081 1; 119082 1; 119083 1; 119097 1; 119099 1; 119104 1; 119105 1; 119106 1; 119107 1; 119108 1; 119109 1; 119110 1; 119111 1; 119112 1; 119113 1; 119114 1; 119115 1; 119117 1; 119118 1; 119119 1; 119120 1; 119121 1; 119122 1; 119123 1; 119124 1; 119125 1; 119126 1; 119127 1; 119128 1; 119130 1; 119131 1; 119134 1; 119135 1; 119136 1; 119137 1; 119138 1; 119141 1; 119145 1; 119146 1; 119147 1; 119148 1; 119149 1; 119150 1; 119153 1; 119154 1; 119155 1; 119156 1; 119157 1; 119158 1; 119159 1; 119160 1; 119161 1; 119162 1; 119164 1; 119168 1; 119169 1; 119170 1; 119171 1; 119172 1; 119173 1; 119174 1; 119175 1; 119177 1; 119179 1; 119180 1; 119181 1; 119183 1; 119185 1; 119186 1; 119187 1; 119188 1; 119189 1; 119191 1; 119192 1; 119193 1; 119194 1; 119195 1; 119196 1; 119197 1; 119198 1; 119199 1; 119200 1; 119201 1; 119202 1; 119203 1; 119204 1; 119205 1; 119206 1; 119207 1; 119209 1; 119210 1; 119211 1; 119212 1; 119213 1; 119216 1; 119218 1; 119219 1; 119222 1; 119227 1; 119235 1; 119237 1; 119238 1; 119239 1; 119242 1; 119243 1; 119244 1; 119245 1; 119246 1; 119247 1; 119248 1; 119249 1; 119252 1; 119253 1; 119254 1; 119255 1; 119256 1; 119258 1; 119259 1; 119263 1; 119264 1; 119267 1; 119268 1; 119269 1; 119271 1; 119272 1; 119273 1; 119274 1; 119275 1; 119276 1; 119278 1; 119281 1; 119282 1; 119284 1; 119287 1; 119291 1; 119293 1; 119294 1; 119296 1; 119297 1; 119298 1; 119299 1; 119300 1; 119301 1; 119302 1; 119303 1; 119304 1; 119305 1; 119306 1; 119307 1; 119308 1; 119309 1; 119310 1; 119313 1; 119314 1; 119315 1; 119316 1; 119317 1; 119318 1; 119319 1; 119321 1; 119322 1; 119323 1; 119324 1; 119325 1; 119326 1; 119327 1; 119328 1; 119329 1; 119330 1; 119331 1; 119332 1; 119333 1; 119334 1; 119345 1; 119348 1; 119349 1; 119350 1; 119351 1; 119352 1; 119353 1; 119354 1; 119355 1; 119356 1; 119358 1; 119359 1; 119360 1; 119361 1; 119362 1; 119363 1; 119364 1; 119365 1; 119366 1; 119367 1; 119368 1; 119369 1; 119370 1; 119371 1; 119372 1; 119373 1; 119374 1; 119375 1; 119376 1; 119377 1; 119378 1; 119381 1; 119382 1; 119383 1; 119384 1; 119387 1; 119388 1; 119389 1; 119390 1; 119391 1; 119392 1; 119393 1; 119394 1; 119395 1; 119396 1; 119397 1; 119398 1; 119399 1; 119400 1; 119402 1; 119407 1; 119408 1; 119409 1; 119410 1; 119411 1; 119412 1; 119413 1; 119414 1; 119415 1; 119416 1; 119417 1; 119418 1; 119419 1; 119420 1; 119421 1; 119422 1; 119423 1; 119424 1; 119425 1; 119426 1; 119428 1; 119429 1; 119430 1; 119431 1; 119432 1; 119433 1; 119434 1; 119435 1; 119436 1; 119437 1; 119438 1; 119439 1; 119440 1; 119441 1; 119442 1; 119443 1; 119444 1; 119445 1; 119446 1; 119447 1; 119448 1; 119449 1; 119450 1; 119451 1; 119452 1; 119453 1; 119454 1; 119455 1; 119456 1; 119457 1; 119458 1; 119459 1; 119460 1; 119461 1; 119462 1; 119463 1; 119464 1; 119465 1; 119466 1; 119467 1; 119468 1; 119469 1; 119471 1; 119473 1; 119474 1; 119475 1; 119476 1; 119477 1; 119479 1; 119480 1; 119483 1; 119484 1; 119486 1; 119487 1; 119488 1; 119489 1; 119490 1; 119491 1; 119492 1; 119493 1; 119494 1; 119495 1; 119496 1; 119502 1; 119503 1; 119504 1; 119505 1; 119508 1; 119516 1; 119517 1; 119520 1; 119521 1; 119523 1; 119524 1; 119525 1; 119526 1; 119527 1; 119528 1; 119529 1; 119531 1; 119532 1; 119533 1; 119534 1; 119535 1; 119537 1; 119538 1; 119539 1; 119540 1; 119541 1; 119542 1; 119543 1; 119544 1; 119546 1; 119547 1; 119548 1; 119550 1; 119551 1; 119552 1; 119658 1; 119659 1; 119663 1; 119668 1; 119670 1; 119675 1; 119677 1; 119678 1; 119680 1; 119681 1; 119682 1; 119684 1; 119685 1; 119686 1; 119687 1; 119689 1; 119691 1; 119692 1; 119694 1; 119695 1; 119696 1; 119698 1; 119712 1; 119713 1; 119714 1; 119716 1; 119717 1; 119718 1; 119719 1; 119720 1; 119721 1; 119724 1; 119725 1; 119726 1; 119730 1; 119731 1; 119732 1; 119733 1; 119736 1; 119739 1; 119740 1; 119741 1; 119743 1; 119744 1; 119745 1; 119746 1; 119747 1; 119749 1; 119751 1; 119752 1; 119754 1; 119757 1; 119761 1; 119765 1; 119766 1; 119767 1; 119770 1; 119772 1; 119776 1; 119777 1; 119780 1; 119781 1; 119782 1; 119785 1; 119786 1; 119787 1; 119789 1; 119792 1; 119793 1; 119794 1; 119795 1; 119796 1; 119798 1; 119800 1; 119801 1; 119804 1; 119805 1; 119807 1; 119808 1; 119810 1; 119811 1; 119813 1; 119814 1; 119815 1; 119816 1; 119817 1; 119819 1; 119821 1; 119822 1; 119823 1; 119825 1; 119827 1; 119828 1; 119830 1; 119831 1; 119838 1; 119841 1; 119843 1; 119845 1; 119846 1; 119847 1; 119849 1; 119850 1; 119851 1; 119852 1; 119853 1; 119855 1; 119860 1; 119861 1; 119862 1; 119863 1; 119864 1; 119866 1; 119867 1; 119868 1; 119870 1; 119871 1; 119872 1; 119873 1; 119874 1; 119875 1; 119876 1; 119878 1; 119879 1; 119880 1; 119881 1; 119883 1; 119884 1; 119885 1; 119886 1; 119887 1; 119888 1; 119889 1; 119890 1; 119891 1; 119893 1; 119894 1; 119895 1; 119896 1; 119897 1; 119898 1; 119900 1; 119901 1; 119902 1; 119903 1; 119904 1; 119905 1; 119906 1; 119910 1; 119911 1; 119912 1; 119916 1; 119919 1; 119921 1; 119924 1; 119925 1; 119927 1; 119928 1; 119930 1; 119932 1; 119937 1; 119939 1; 119940 1; 119942 1; 119943 1; 119944 1; 119945 1; 119947 1; 119948 1; 119950 1; 119953 1; 119954 1; 119959 1; 119962 1; 119970 1; 119972 1; 119975 1; 119976 1; 119977 1; 119978 1; 119979 1; 119980 1; 119981 1; 119982 1; 119983 1; 119984 1; 119986 1; 119993 1; 119997 1; 120002 1; 120003 1; 120012 1; 120015 1; 120018 1; 120020 1; 120023 1; 120024 1; 120025 1; 120026 1; 120028 1; 120029 1; 120030 1; 120031 1; 120032 1; 120033 1; 120034 1; 120035 1; 120036 1; 120037 1; 120039 1; 120041 1; 120042 1; 120044 1; 120052 1; 120059 1; 120060 1; 120061 1; 120062 1; 120063 1; 120064 1; 120067 1; 120068 1; 120069 1; 120071 1; 120077 1; 120092 1; 120097 1; 120107 1; 120108 1; 120109 1; 120110 1; 120112 1; 120113 1; 120121 1; 120122 1; 120304 1; 120305 1; 120306 1; 120309 1; 120311 1; 120541 1; 120542 1; 120546 1; 120548 1; 120549 1; 120550 1; 120554 1; 120555 1; 120556 1; 120557 1; 120558 1; 120559 1; 120560 1; 120561 1; 120563 1; 120565 1; 120566 1; 120567 1; 120568 1; 120569 1; 120571 1; 120572 1; 120574 1; 120580 1; 120581 1; 120582 1; 120583 1; 120584 1; 120585 1; 120586 1; 120587 1; 120589 1; 120593 1; 120594 1; 120595 1; 120599 1; 120600 1; 120601 1; 120602 1; 120603 1; 120604 1; 120606 1; 120607 1; 120631 1; 120633 1; 120636 1; 120637 1; 120638 1; 120639 1; 120640 1; 120641 1; 120644 1; 120645 1; 120646 1; 120649 1; 120652 1; 120656 1; 120659 1; 120672 1; 120674 1; 120676 1; 120677 1; 120678 1; 120679 1; 120680 1; 120687 1; 120693 1; 120697 1; 120698 1; 120699 1; 120700 1; 120701 1; 120703 1; 120704 1; 120705 1; 120706 1; 120708 1; 120709 1; 120710 1; 120713 1; 120714 1; 120715 1; 120716 1; 120723 1; 120730 1; 120731 1; 120732 1; 120734 1; 120738 1; 120739 1; 120740 1; 120741 1; 120742 1; 120743 1; 120744 1; 120745 1; 120746 1; 120747 1; 120748 1; 120749 1; 120750 1; 120752 1; 120753 1; 120755 1; 120756 1; 121075 1; 121079 1; 121080 1; 121084 1; 121086 1; 121091 1; 121097 1; 121099 1; 121100 1; 121102 1; 121103 1; 121108 1; 121109 1; 121110 1; 121112 1; 121126 1; 121127 1; 121128 1; 121272 1; 121273 1; 121274 1; 121281 1; 121282 1; 121291 1; 121292 1; 121293 1; 121294 1; 121295 1; 121296 1; 121297 1; 121298 1; 121300 1; 121301 1; 121302 1; 121304 1; 121305 1; 121308 1; 121309 1; 121310 1; 121312 1; 121313 1; 121314 1; 121315 1; 121316 1; 121317 1; 121320 1; 121321 1; 121322 1; 121323 1; 121324 1; 121328 1; 121329 1; 121332 1; 121333 1; 121334 1; 121335 1; 121336 1; 121337 1; 121338 1; 121339 1; 121889 1; 121890 1; 121891 1; 121892 1; 121893 1; 122271 1; 122399 1; 122401 1; 122404 1; 123664 1; 123665 1; 123673 1; 123682 1; 123684 1; 123686 1; 123693 1; 123696 1; 123704 1; 123705 1; 123706 1; 123707 1; 123708 1; 123709 1; 123710 1; 123712 1; 123713 1; 123714 1; 123715 1; 123716 1; 123717 1; 123718 1; 123719 1; 123720 1; 123722 1; 123723 1; 123724 1; 123725 1; 123726 1; 123727 1; 123728 1; 123750 1; 123751 1; 123752 1; 123775 1; 123776 1; 123777 1; 123778 1; 123779 1; 123781 1; 123782 1; 123783 1; 123784 1; 123785 1; 123786 1; 123787 1; 123788 1; 123789 1; 123790 1; 123791 1; 123792 1; 123793 1; 123794 1; 123795 1; 123796 1; 123797 1; 123801 1; 123802 1; 123803 1; 123804 1; 123808 1; 123809 1; 123810 1; 123811 1; 123812 1; 123813 1; NODATA NODATA));1 9 1\"); out_raster.save(r\"C:\\Users\\subed036\\Documents\\ArcGIS\\Projects\\Lab2part2\\Lab2part2.gdb\\Weighte_Extr2\")"
   ]
  },
  {
   "cell_type": "markdown",
   "metadata": {},
   "source": [
    "# Weighted sum"
   ]
  },
  {
   "cell_type": "code",
   "execution_count": 2,
   "metadata": {},
   "outputs": [],
   "source": [
    "out_raster = arcpy.sa.WeightedSum(\"Road Value 0.3;Reclassi_stream Value 0.5;'Landuse reclassify' Value 0.1;out_raster Value 0.1\"); out_raster.save(r\"C:\\Users\\subed036\\Documents\\ArcGIS\\Projects\\Lab2part2\\Lab2part2.gdb\\Weighte_Recl2\")"
   ]
  },
  {
   "cell_type": "markdown",
   "metadata": {},
   "source": [
    "# Fuzzy Overlay"
   ]
  },
  {
   "cell_type": "code",
   "execution_count": 4,
   "metadata": {},
   "outputs": [],
   "source": [
    "out_raster = arcpy.sa.FuzzyOverlay(\"Reclassi_stream;Road;'Landuse reclassify';Slope_Extrac1\", \"AND\", 0.9); out_raster.save(r\"C:\\Users\\subed036\\Documents\\ArcGIS\\Projects\\Lab2part2\\Lab2part2.gdb\\FuzzyOv_Extr1\")"
   ]
  },
  {
   "cell_type": "markdown",
   "metadata": {},
   "source": [
    "# #Cost Distance for weighted sum "
   ]
  },
  {
   "cell_type": "code",
   "execution_count": 5,
   "metadata": {},
   "outputs": [],
   "source": [
    "out_distance_raster = arcpy.sa.CostDistance(\"DoryEndingPoint_XYTableToPoint1\", \"weighted sum\", None, None, None, None, None, None, ''); out_distance_raster.save(r\"C:\\Users\\subed036\\Documents\\ArcGIS\\Projects\\Lab2part2\\Lab2part2.gdb\\CostDis_Dory4\")"
   ]
  },
  {
   "cell_type": "markdown",
   "metadata": {},
   "source": [
    "# cost distance for weighted overlay"
   ]
  },
  {
   "cell_type": "code",
   "execution_count": 8,
   "metadata": {},
   "outputs": [],
   "source": [
    "out_distance_raster = arcpy.sa.CostDistance(\"DoryStartingPoint_XYTableToPoint1\", \"weighted overlay\", None, None, None, None, None, None, ''); out_distance_raster.save(r\"C:\\Users\\subed036\\Documents\\ArcGIS\\Projects\\Lab2part2\\Lab2part2.gdb\\CostDis_Dory6\")"
   ]
  },
  {
   "cell_type": "markdown",
   "metadata": {},
   "source": [
    "# cost path as polyline"
   ]
  },
  {
   "cell_type": "code",
   "execution_count": 7,
   "metadata": {},
   "outputs": [
    {
     "data": {
      "text/html": [
       "<div class='gpresult'><h2>Messages</h2><div id='messages' data-messages='[\"Start Time: Thursday, December 8, 2022 8:49:12 PM\",\"WARNING 010597: The path with objectid 1 may have terminated before reaching its source.\",\"Succeeded at Thursday, December 8, 2022 8:49:16 PM (Elapsed Time: 3.15 seconds)\"]' data-show='true'><div id = 'default' /></div></div>"
      ],
      "text/plain": [
       "<geoprocessing server result object object at 0x000001D93108BB70>"
      ]
     },
     "execution_count": 7,
     "metadata": {},
     "output_type": "execute_result"
    }
   ],
   "source": [
    "arcpy.sa.CostPathAsPolyline(\"DoryEndingPoint_XYTableToPoint1\", \"CostDis_Dory5\", \"weighted sum\", r\"C:\\Users\\subed036\\Documents\\ArcGIS\\Projects\\Lab2part2\\Lab2part2.gdb\\CostPat_DoryEnd1\", \"BEST_SINGLE\", \"OBJECTID\", \"INPUT_RANGE\")"
   ]
  },
  {
   "cell_type": "code",
   "execution_count": null,
   "metadata": {},
   "outputs": [],
   "source": []
  }
 ],
 "metadata": {
  "kernelspec": {
   "display_name": "ArcGISPro",
   "language": "Python",
   "name": "python3"
  },
  "language_info": {
   "file_extension": ".py",
   "name": "python",
   "version": "3"
  }
 },
 "nbformat": 4,
 "nbformat_minor": 2
}
