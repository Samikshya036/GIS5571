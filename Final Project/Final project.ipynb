{
 "cells": [
  {
   "cell_type": "code",
   "execution_count": 1,
   "metadata": {},
   "outputs": [],
   "source": [
    "import requests\n",
    "import numpy as np\n",
    "import sys\n",
    "import pandas as pd"
   ]
  },
  {
   "cell_type": "code",
   "execution_count": 2,
   "metadata": {},
   "outputs": [],
   "source": [
    "Working_dir = r\"C:\\Users\\subed036\\Documents\\ArcGIS\\Projects\\Final project\\Final project.gdb\""
   ]
  },
  {
   "cell_type": "code",
   "execution_count": 3,
   "metadata": {},
   "outputs": [],
   "source": [
    "arcpy.env.workspace = Working_dir"
   ]
  },
  {
   "cell_type": "markdown",
   "metadata": {},
   "source": [
    "# corn 2018, 2019, 2020, 2021 URL"
   ]
  },
  {
   "cell_type": "code",
   "execution_count": 4,
   "metadata": {},
   "outputs": [],
   "source": [
    "ndawn_url = \"https://ndawn.ndsu.nodak.edu/table.csv?ttype=cogdd&station=78&station=111&station=98&station=174&station=142&station=138&station=161&station=9&station=10&station=118&station=56&station=11&station=12&station=58&station=13&station=84&station=55&station=7&station=87&station=14&station=15&station=96&station=16&station=137&station=124&station=143&station=17&station=85&station=140&station=134&station=18&station=136&station=65&station=104&station=99&station=19&station=129&station=20&station=101&station=81&station=21&station=97&station=22&station=75&station=2&station=172&station=139&station=23&station=62&station=86&station=24&station=89&station=126&station=93&station=90&station=25&station=83&station=107&station=156&station=77&station=26&station=70&station=127&station=27&station=132&station=28&station=29&station=30&station=31&station=102&station=32&station=119&station=4&station=80&station=33&station=59&station=105&station=82&station=34&station=72&station=135&station=35&station=76&station=120&station=141&station=109&station=36&station=79&station=71&station=37&station=38&station=39&station=130&station=73&station=40&station=41&station=54&station=69&station=113&station=128&station=42&station=43&station=103&station=116&station=88&station=114&station=3&station=163&station=64&station=115&station=67&station=44&station=133&station=106&station=100&station=121&station=45&station=46&station=61&station=66&station=74&station=60&station=125&station=8&station=47&station=122&station=108&station=5&station=152&station=48&station=68&station=49&station=50&station=91&station=117&station=63&station=150&station=51&station=6&station=52&station=92&station=112&station=131&station=123&station=95&station=53&station=57&station=149&station=148&station=110&year=2022&begin_date=2018-05-01&end_date=2018-09-30\""
   ]
  },
  {
   "cell_type": "code",
   "execution_count": 6,
   "metadata": {},
   "outputs": [],
   "source": [
    "ndawn_url1 = \"https://ndawn.ndsu.nodak.edu/table.csv?ttype=cogdd&station=78&station=111&station=98&station=174&station=142&station=138&station=161&station=9&station=10&station=118&station=56&station=11&station=12&station=58&station=13&station=84&station=55&station=7&station=87&station=14&station=15&station=96&station=16&station=137&station=124&station=143&station=17&station=85&station=140&station=134&station=18&station=136&station=65&station=104&station=99&station=19&station=129&station=20&station=101&station=81&station=21&station=97&station=22&station=75&station=2&station=172&station=139&station=23&station=62&station=86&station=24&station=89&station=126&station=93&station=90&station=25&station=83&station=107&station=156&station=77&station=26&station=70&station=127&station=27&station=132&station=28&station=29&station=30&station=31&station=102&station=32&station=119&station=4&station=80&station=33&station=59&station=105&station=82&station=34&station=72&station=135&station=35&station=76&station=120&station=141&station=109&station=36&station=79&station=71&station=37&station=38&station=39&station=130&station=73&station=40&station=41&station=54&station=69&station=113&station=128&station=42&station=43&station=103&station=116&station=88&station=114&station=3&station=163&station=64&station=115&station=67&station=44&station=133&station=106&station=100&station=121&station=45&station=46&station=61&station=66&station=74&station=60&station=125&station=8&station=47&station=122&station=108&station=5&station=152&station=48&station=68&station=49&station=50&station=91&station=117&station=63&station=150&station=51&station=6&station=52&station=92&station=112&station=131&station=123&station=95&station=53&station=57&station=149&station=148&station=110&year=2022&begin_date=2019-05-01&end_date=2019-09-30\""
   ]
  },
  {
   "cell_type": "code",
   "execution_count": 7,
   "metadata": {},
   "outputs": [],
   "source": [
    "ndawn_url2 = \"https://ndawn.ndsu.nodak.edu/table.csv?ttype=cogdd&station=78&station=111&station=98&station=174&station=142&station=138&station=161&station=9&station=10&station=118&station=56&station=11&station=12&station=58&station=13&station=84&station=55&station=7&station=87&station=14&station=15&station=96&station=16&station=137&station=124&station=143&station=17&station=85&station=140&station=134&station=18&station=136&station=65&station=104&station=99&station=19&station=129&station=20&station=101&station=81&station=21&station=97&station=22&station=75&station=2&station=172&station=139&station=23&station=62&station=86&station=24&station=89&station=126&station=93&station=90&station=25&station=83&station=107&station=156&station=77&station=26&station=70&station=127&station=27&station=132&station=28&station=29&station=30&station=31&station=102&station=32&station=119&station=4&station=80&station=33&station=59&station=105&station=82&station=34&station=72&station=135&station=35&station=76&station=120&station=141&station=109&station=36&station=79&station=71&station=37&station=38&station=39&station=130&station=73&station=40&station=41&station=54&station=69&station=113&station=128&station=42&station=43&station=103&station=116&station=88&station=114&station=3&station=163&station=64&station=115&station=67&station=44&station=133&station=106&station=100&station=121&station=45&station=46&station=61&station=66&station=74&station=60&station=125&station=8&station=47&station=122&station=108&station=5&station=152&station=48&station=68&station=49&station=50&station=91&station=117&station=63&station=150&station=51&station=6&station=52&station=92&station=112&station=131&station=123&station=95&station=53&station=57&station=149&station=148&station=110&year=2022&begin_date=2020-05-01&end_date=2020-09-30\""
   ]
  },
  {
   "cell_type": "code",
   "execution_count": 8,
   "metadata": {},
   "outputs": [],
   "source": [
    "ndawn_url3 = \"https://ndawn.ndsu.nodak.edu/table.csv?ttype=cogdd&station=78&station=111&station=98&station=174&station=142&station=138&station=161&station=9&station=10&station=118&station=56&station=11&station=12&station=58&station=13&station=84&station=55&station=7&station=87&station=14&station=15&station=96&station=16&station=137&station=124&station=143&station=17&station=85&station=140&station=134&station=18&station=136&station=65&station=104&station=99&station=19&station=129&station=20&station=101&station=81&station=21&station=97&station=22&station=75&station=2&station=172&station=139&station=23&station=62&station=86&station=24&station=89&station=126&station=93&station=90&station=25&station=83&station=107&station=156&station=77&station=26&station=70&station=127&station=27&station=132&station=28&station=29&station=30&station=31&station=102&station=32&station=119&station=4&station=80&station=33&station=59&station=105&station=82&station=34&station=72&station=135&station=35&station=76&station=120&station=141&station=109&station=36&station=79&station=71&station=37&station=38&station=39&station=130&station=73&station=40&station=41&station=54&station=69&station=113&station=128&station=42&station=43&station=103&station=116&station=88&station=114&station=3&station=163&station=64&station=115&station=67&station=44&station=133&station=106&station=100&station=121&station=45&station=46&station=61&station=66&station=74&station=60&station=125&station=8&station=47&station=122&station=108&station=5&station=152&station=48&station=68&station=49&station=50&station=91&station=117&station=63&station=150&station=51&station=6&station=52&station=92&station=112&station=131&station=123&station=95&station=53&station=57&station=149&station=148&station=110&year=2022&begin_date=2021-05-01&end_date=2021-09-30\""
   ]
  },
  {
   "cell_type": "markdown",
   "metadata": {},
   "source": [
    "# Use requests.get"
   ]
  },
  {
   "cell_type": "code",
   "execution_count": 10,
   "metadata": {},
   "outputs": [],
   "source": [
    "data_req1 = requests.get(ndawn_url1)"
   ]
  },
  {
   "cell_type": "code",
   "execution_count": 11,
   "metadata": {},
   "outputs": [],
   "source": [
    "data_req2 = requests.get(ndawn_url2)"
   ]
  },
  {
   "cell_type": "code",
   "execution_count": 12,
   "metadata": {},
   "outputs": [],
   "source": [
    "data_req3 = requests.get(ndawn_url3)"
   ]
  },
  {
   "cell_type": "markdown",
   "metadata": {},
   "source": [
    "# Wheat 2018, 2019, 2020, 2021 url"
   ]
  },
  {
   "cell_type": "code",
   "execution_count": 29,
   "metadata": {},
   "outputs": [],
   "source": [
    "base_url = \"https://ndawn.ndsu.nodak.edu/table.csv?ttype=wgdd&station=78&station=111&station=98&station=174&station=142&station=138&station=161&station=9&station=10&station=118&station=56&station=11&station=12&station=58&station=13&station=84&station=55&station=7&station=87&station=14&station=15&station=96&station=16&station=137&station=124&station=143&station=17&station=85&station=140&station=134&station=18&station=136&station=65&station=104&station=99&station=19&station=129&station=20&station=101&station=81&station=21&station=97&station=22&station=75&station=2&station=172&station=139&station=23&station=62&station=86&station=24&station=89&station=126&station=93&station=90&station=25&station=83&station=107&station=156&station=77&station=26&station=70&station=127&station=27&station=132&station=28&station=29&station=30&station=31&station=102&station=32&station=119&station=4&station=80&station=33&station=59&station=105&station=82&station=34&station=72&station=135&station=35&station=76&station=120&station=141&station=109&station=36&station=79&station=71&station=37&station=38&station=39&station=130&station=73&station=40&station=41&station=54&station=69&station=113&station=128&station=42&station=43&station=103&station=116&station=88&station=114&station=3&station=163&station=64&station=115&station=67&station=44&station=133&station=106&station=100&station=121&station=45&station=46&station=61&station=66&station=74&station=60&station=125&station=8&station=47&station=122&station=108&station=5&station=152&station=48&station=68&station=49&station=50&station=91&station=117&station=63&station=150&station=51&station=6&station=52&station=92&station=112&station=131&station=123&station=95&station=53&station=57&station=149&station=148&station=110&year=2022&begin_date=2018-05-01&end_date=2018-09-30\""
   ]
  },
  {
   "cell_type": "code",
   "execution_count": 30,
   "metadata": {},
   "outputs": [],
   "source": [
    "base_url1 = \"https://ndawn.ndsu.nodak.edu/table.csv?ttype=wgdd&station=78&station=111&station=98&station=174&station=142&station=138&station=161&station=9&station=10&station=118&station=56&station=11&station=12&station=58&station=13&station=84&station=55&station=7&station=87&station=14&station=15&station=96&station=16&station=137&station=124&station=143&station=17&station=85&station=140&station=134&station=18&station=136&station=65&station=104&station=99&station=19&station=129&station=20&station=101&station=81&station=21&station=97&station=22&station=75&station=2&station=172&station=139&station=23&station=62&station=86&station=24&station=89&station=126&station=93&station=90&station=25&station=83&station=107&station=156&station=77&station=26&station=70&station=127&station=27&station=132&station=28&station=29&station=30&station=31&station=102&station=32&station=119&station=4&station=80&station=33&station=59&station=105&station=82&station=34&station=72&station=135&station=35&station=76&station=120&station=141&station=109&station=36&station=79&station=71&station=37&station=38&station=39&station=130&station=73&station=40&station=41&station=54&station=69&station=113&station=128&station=42&station=43&station=103&station=116&station=88&station=114&station=3&station=163&station=64&station=115&station=67&station=44&station=133&station=106&station=100&station=121&station=45&station=46&station=61&station=66&station=74&station=60&station=125&station=8&station=47&station=122&station=108&station=5&station=152&station=48&station=68&station=49&station=50&station=91&station=117&station=63&station=150&station=51&station=6&station=52&station=92&station=112&station=131&station=123&station=95&station=53&station=57&station=149&station=148&station=110&year=2022&begin_date=2019-05-01&end_date=2019-09-30\""
   ]
  },
  {
   "cell_type": "code",
   "execution_count": 31,
   "metadata": {},
   "outputs": [],
   "source": [
    "base_url2 = \"https://ndawn.ndsu.nodak.edu/table.csv?ttype=wgdd&station=78&station=111&station=98&station=174&station=142&station=138&station=161&station=9&station=10&station=118&station=56&station=11&station=12&station=58&station=13&station=84&station=55&station=7&station=87&station=14&station=15&station=96&station=16&station=137&station=124&station=143&station=17&station=85&station=140&station=134&station=18&station=136&station=65&station=104&station=99&station=19&station=129&station=20&station=101&station=81&station=21&station=97&station=22&station=75&station=2&station=172&station=139&station=23&station=62&station=86&station=24&station=89&station=126&station=93&station=90&station=25&station=83&station=107&station=156&station=77&station=26&station=70&station=127&station=27&station=132&station=28&station=29&station=30&station=31&station=102&station=32&station=119&station=4&station=80&station=33&station=59&station=105&station=82&station=34&station=72&station=135&station=35&station=76&station=120&station=141&station=109&station=36&station=79&station=71&station=37&station=38&station=39&station=130&station=73&station=40&station=41&station=54&station=69&station=113&station=128&station=42&station=43&station=103&station=116&station=88&station=114&station=3&station=163&station=64&station=115&station=67&station=44&station=133&station=106&station=100&station=121&station=45&station=46&station=61&station=66&station=74&station=60&station=125&station=8&station=47&station=122&station=108&station=5&station=152&station=48&station=68&station=49&station=50&station=91&station=117&station=63&station=150&station=51&station=6&station=52&station=92&station=112&station=131&station=123&station=95&station=53&station=57&station=149&station=148&station=110&year=2022&begin_date=2020-05-01&end_date=2020-09-30\""
   ]
  },
  {
   "cell_type": "code",
   "execution_count": 32,
   "metadata": {},
   "outputs": [],
   "source": [
    "base_url3 = \"https://ndawn.ndsu.nodak.edu/table.csv?ttype=wgdd&station=78&station=111&station=98&station=174&station=142&station=138&station=161&station=9&station=10&station=118&station=56&station=11&station=12&station=58&station=13&station=84&station=55&station=7&station=87&station=14&station=15&station=96&station=16&station=137&station=124&station=143&station=17&station=85&station=140&station=134&station=18&station=136&station=65&station=104&station=99&station=19&station=129&station=20&station=101&station=81&station=21&station=97&station=22&station=75&station=2&station=172&station=139&station=23&station=62&station=86&station=24&station=89&station=126&station=93&station=90&station=25&station=83&station=107&station=156&station=77&station=26&station=70&station=127&station=27&station=132&station=28&station=29&station=30&station=31&station=102&station=32&station=119&station=4&station=80&station=33&station=59&station=105&station=82&station=34&station=72&station=135&station=35&station=76&station=120&station=141&station=109&station=36&station=79&station=71&station=37&station=38&station=39&station=130&station=73&station=40&station=41&station=54&station=69&station=113&station=128&station=42&station=43&station=103&station=116&station=88&station=114&station=3&station=163&station=64&station=115&station=67&station=44&station=133&station=106&station=100&station=121&station=45&station=46&station=61&station=66&station=74&station=60&station=125&station=8&station=47&station=122&station=108&station=5&station=152&station=48&station=68&station=49&station=50&station=91&station=117&station=63&station=150&station=51&station=6&station=52&station=92&station=112&station=131&station=123&station=95&station=53&station=57&station=149&station=148&station=110&year=2022&begin_date=2021-05-01&end_date=2021-09-30\""
   ]
  },
  {
   "cell_type": "markdown",
   "metadata": {},
   "source": [
    "# Use requests.get"
   ]
  },
  {
   "cell_type": "code",
   "execution_count": 34,
   "metadata": {},
   "outputs": [],
   "source": [
    "wheat_req = requests.get(base_url)"
   ]
  },
  {
   "cell_type": "code",
   "execution_count": 35,
   "metadata": {},
   "outputs": [],
   "source": [
    "wheat1_req = requests.get(base_url1)"
   ]
  },
  {
   "cell_type": "code",
   "execution_count": 36,
   "metadata": {},
   "outputs": [],
   "source": [
    "wheat2_req = requests.get(base_url2)"
   ]
  },
  {
   "cell_type": "code",
   "execution_count": 37,
   "metadata": {},
   "outputs": [],
   "source": [
    "wheat3_req = requests.get(base_url3)"
   ]
  },
  {
   "cell_type": "markdown",
   "metadata": {},
   "source": [
    "# IDW Corn (AGDD) in ND 2018 \n",
    "Trying"
   ]
  },
  {
   "cell_type": "code",
   "execution_count": 3,
   "metadata": {
    "scrolled": true
   },
   "outputs": [
    {
     "data": {
      "text/html": [
       "<div class='gpresult'><h2>Messages</h2><div id='messages' data-messages='[\"Start Time: Sunday, December 4, 2022 3:39:35 PM\",\"Succeeded at Sunday, December 4, 2022 3:39:40 PM (Elapsed Time: 5.13 seconds)\"]' data-show='true'><div id = 'default' /></div></div>"
      ],
      "text/plain": [
       "<Result 'C:\\\\Users\\\\subed036\\\\Documents\\\\ArcGIS\\\\Projects\\\\Final project\\\\Final project.gdb\\\\CornAGDD2018_XYTableToPoint1'>"
      ]
     },
     "execution_count": 3,
     "metadata": {},
     "output_type": "execute_result"
    }
   ],
   "source": [
    "arcpy.management.XYTableToPoint(\"CornAGDD2018.csv\", r\"C:\\Users\\subed036\\Documents\\ArcGIS\\Projects\\Final project\\Final project.gdb\\CornAGDD2018_XYTableToPoint1\", \"Longitude\", \"Latitude\", None, 'GEOGCS[\"GCS_WGS_1984\",DATUM[\"D_WGS_1984\",SPHEROID[\"WGS_1984\",6378137.0,298.257223563]],PRIMEM[\"Greenwich\",0.0],UNIT[\"Degree\",0.0174532925199433]];-400 -400 1000000000;-100000 10000;-100000 10000;8.98315284119521E-09;0.001;0.001;IsHighPrecision')"
   ]
  },
  {
   "cell_type": "code",
   "execution_count": 5,
   "metadata": {},
   "outputs": [],
   "source": [
    "with arcpy.EnvManager(extent='-104.048900000235 45.9350539996424 -96.5545070003977 49.0005739996904 GEOGCS[\"GCS_North_American_1983\",DATUM[\"D_North_American_1983\",SPHEROID[\"GRS_1980\",6378137.0,298.257222101]],PRIMEM[\"Greenwich\",0.0],UNIT[\"Degree\",0.0174532925199433]]', mask=\"ND\"):\n",
    "    arcpy.ddd.Idw(\"CornAGDD2018_XYTableToPoint1\", \"Corn_Accumulated_Growing_Degree_Days\", r\"C:\\Users\\subed036\\Documents\\ArcGIS\\Projects\\Final project\\Final project.gdb\\IDWCORN2018\", 0.0122620839984271, 2, \"VARIABLE 12\", None)"
   ]
  },
  {
   "cell_type": "code",
   "execution_count": 6,
   "metadata": {},
   "outputs": [
    {
     "data": {
      "text/html": [
       "<div class='gpresult'><h2>Messages</h2><div id='messages' data-messages='[\"Start Time: Sunday, December 4, 2022 3:48:14 PM\",\"Analyzing input features...\",\"Dissolving clip features...\",\"Clipping input features...\",\"Succeeded at Sunday, December 4, 2022 3:48:15 PM (Elapsed Time: 1.63 seconds)\"]' data-show='true'><div id = 'default' /></div></div>"
      ],
      "text/plain": [
       "<Result 'C:\\\\Users\\\\subed036\\\\Documents\\\\ArcGIS\\\\Projects\\\\Final project\\\\Final project.gdb\\\\CornAGDD2018_XYTableToP_Clip1'>"
      ]
     },
     "execution_count": 6,
     "metadata": {},
     "output_type": "execute_result"
    }
   ],
   "source": [
    "arcpy.analysis.Clip(\"CornAGDD2018_XYTableToPoint1\", \"ND\", r\"C:\\Users\\subed036\\Documents\\ArcGIS\\Projects\\Final project\\Final project.gdb\\CornAGDD2018_XYTableToP_Clip1\", None)"
   ]
  },
  {
   "cell_type": "markdown",
   "metadata": {},
   "source": [
    "# IDW Corn (AGDD) in North Dakota 2019"
   ]
  },
  {
   "cell_type": "code",
   "execution_count": 1,
   "metadata": {},
   "outputs": [
    {
     "data": {
      "text/html": [
       "<div class='gpresult'><h2>Messages</h2><div id='messages' data-messages='[\"Start Time: Sunday, December 4, 2022 4:28:33 PM\",\"Succeeded at Sunday, December 4, 2022 4:28:39 PM (Elapsed Time: 6.26 seconds)\"]' data-show='true'><div id = 'default' /></div></div>"
      ],
      "text/plain": [
       "<Result 'C:\\\\Users\\\\subed036\\\\Documents\\\\ArcGIS\\\\Projects\\\\Final project\\\\Final project.gdb\\\\CornAGDD2019_XYTableToPoint'>"
      ]
     },
     "execution_count": 1,
     "metadata": {},
     "output_type": "execute_result"
    }
   ],
   "source": [
    "arcpy.management.XYTableToPoint(\"CornAGDD2019.csv\", r\"C:\\Users\\subed036\\Documents\\ArcGIS\\Projects\\Final project\\Final project.gdb\\CornAGDD2019_XYTableToPoint\", \"Longitude\", \"Latitude\", None, 'GEOGCS[\"GCS_WGS_1984\",DATUM[\"D_WGS_1984\",SPHEROID[\"WGS_1984\",6378137.0,298.257223563]],PRIMEM[\"Greenwich\",0.0],UNIT[\"Degree\",0.0174532925199433]];-400 -400 1000000000;-100000 10000;-100000 10000;8.98315284119521E-09;0.001;0.001;IsHighPrecision')"
   ]
  },
  {
   "cell_type": "code",
   "execution_count": 2,
   "metadata": {},
   "outputs": [],
   "source": [
    "with arcpy.EnvManager(extent='-104.048900000235 45.9350539996424 -96.5545070003977 49.0005739996904 GEOGCS[\"GCS_North_American_1983\",DATUM[\"D_North_American_1983\",SPHEROID[\"GRS_1980\",6378137.0,298.257222101]],PRIMEM[\"Greenwich\",0.0],UNIT[\"Degree\",0.0174532925199433]]', mask=\"ND\"):\n",
    "    arcpy.ddd.Idw(\"CornAGDD2019_XYTableToPoint\", \"Corn_Accumulated_Growing_Degree_Days\", r\"C:\\Users\\subed036\\Documents\\ArcGIS\\Projects\\Final project\\Final project.gdb\\Idw_CornAGDD2\", 0.0122620839984271, 2, \"VARIABLE 12\", None)"
   ]
  },
  {
   "cell_type": "code",
   "execution_count": 3,
   "metadata": {},
   "outputs": [
    {
     "data": {
      "text/html": [
       "<div class='gpresult'><h2>Messages</h2><div id='messages' data-messages='[\"Start Time: Sunday, December 4, 2022 4:31:52 PM\",\"Analyzing input features...\",\"Dissolving clip features...\",\"Clipping input features...\",\"Succeeded at Sunday, December 4, 2022 4:31:54 PM (Elapsed Time: 1.46 seconds)\"]' data-show='true'><div id = 'default' /></div></div>"
      ],
      "text/plain": [
       "<Result 'C:\\\\Users\\\\subed036\\\\Documents\\\\ArcGIS\\\\Projects\\\\Final project\\\\Final project.gdb\\\\CornAGDD2019_XYTableToP_Clip'>"
      ]
     },
     "execution_count": 3,
     "metadata": {},
     "output_type": "execute_result"
    }
   ],
   "source": []
  },
  {
   "cell_type": "code",
   "execution_count": 4,
   "metadata": {},
   "outputs": [
    {
     "data": {
      "text/html": [
       "<div class='gpresult'><h2>Messages</h2><div id='messages' data-messages='[\"Start Time: Sunday, December 4, 2022 4:33:38 PM\",\"Analyzing input features...\",\"Dissolving clip features...\",\"Clipping input features...\",\"Succeeded at Sunday, December 4, 2022 4:33:39 PM (Elapsed Time: 1.43 seconds)\"]' data-show='true'><div id = 'default' /></div></div>"
      ],
      "text/plain": [
       "<Result 'C:\\\\Users\\\\subed036\\\\Documents\\\\ArcGIS\\\\Projects\\\\Final project\\\\Final project.gdb\\\\CornAGDD2019_XYTableToP_Clip'>"
      ]
     },
     "execution_count": 4,
     "metadata": {},
     "output_type": "execute_result"
    }
   ],
   "source": [
    "arcpy.analysis.Clip(\"CornAGDD2019_XYTableToPoint\", \"ND\", r\"C:\\Users\\subed036\\Documents\\ArcGIS\\Projects\\Final project\\Final project.gdb\\CornAGDD2019_XYTableToP_Clip\", None)"
   ]
  },
  {
   "cell_type": "markdown",
   "metadata": {},
   "source": [
    "# IDW Corn  AGDD 2020"
   ]
  },
  {
   "cell_type": "code",
   "execution_count": 1,
   "metadata": {},
   "outputs": [
    {
     "data": {
      "text/html": [
       "<div class='gpresult'><h2>Messages</h2><div id='messages' data-messages='[\"Start Time: Sunday, December 4, 2022 5:48:17 PM\",\"Succeeded at Sunday, December 4, 2022 5:48:22 PM (Elapsed Time: 4.73 seconds)\"]' data-show='true'><div id = 'default' /></div></div>"
      ],
      "text/plain": [
       "<Result 'C:\\\\Users\\\\subed036\\\\Documents\\\\ArcGIS\\\\Projects\\\\Final project\\\\Final project.gdb\\\\CornAGDD2020_XYTableToPoint1'>"
      ]
     },
     "execution_count": 1,
     "metadata": {},
     "output_type": "execute_result"
    }
   ],
   "source": [
    "arcpy.management.XYTableToPoint(\"CornAGDD2020.csv\", r\"C:\\Users\\subed036\\Documents\\ArcGIS\\Projects\\Final project\\Final project.gdb\\CornAGDD2020_XYTableToPoint1\", \"Longitude\", \"Latitude\", None, 'GEOGCS[\"GCS_WGS_1984\",DATUM[\"D_WGS_1984\",SPHEROID[\"WGS_1984\",6378137.0,298.257223563]],PRIMEM[\"Greenwich\",0.0],UNIT[\"Degree\",0.0174532925199433]];-400 -400 1000000000;-100000 10000;-100000 10000;8.98315284119521E-09;0.001;0.001;IsHighPrecision')"
   ]
  },
  {
   "cell_type": "code",
   "execution_count": 3,
   "metadata": {},
   "outputs": [
    {
     "data": {
      "text/html": [
       "<div class='gpresult'><h2>Messages</h2><div id='messages' data-messages='[\"Start Time: Sunday, December 4, 2022 5:51:12 PM\",\"Analyzing input features...\",\"Dissolving clip features...\",\"Clipping input features...\",\"Succeeded at Sunday, December 4, 2022 5:51:14 PM (Elapsed Time: 1.94 seconds)\"]' data-show='true'><div id = 'default' /></div></div>"
      ],
      "text/plain": [
       "<Result 'C:\\\\Users\\\\subed036\\\\Documents\\\\ArcGIS\\\\Projects\\\\Final project\\\\Final project.gdb\\\\cornGDD2020clip'>"
      ]
     },
     "execution_count": 3,
     "metadata": {},
     "output_type": "execute_result"
    }
   ],
   "source": [
    "arcpy.analysis.Clip(\"CornAGDD2020_XYTableToPoint1\", \"ND\", r\"C:\\Users\\subed036\\Documents\\ArcGIS\\Projects\\Final project\\Final project.gdb\\cornGDD2020clip\", None)"
   ]
  },
  {
   "cell_type": "code",
   "execution_count": 4,
   "metadata": {},
   "outputs": [],
   "source": [
    "with arcpy.EnvManager(extent='-104.048900000235 45.9350539996424 -96.5545070003977 49.0005739996904 GEOGCS[\"GCS_North_American_1983\",DATUM[\"D_North_American_1983\",SPHEROID[\"GRS_1980\",6378137.0,298.257222101]],PRIMEM[\"Greenwich\",0.0],UNIT[\"Degree\",0.0174532925199433]]', mask=\"ND\"):\n",
    "    arcpy.ddd.Idw(\"cornGDD2020clip\", \"Corn_Accumulated_Growing_Degree_Days\", r\"C:\\Users\\subed036\\Documents\\ArcGIS\\Projects\\Final project\\Final project.gdb\\Idw_cornGDD21\", 0.0122620839984271, 2, \"VARIABLE 12\", None)"
   ]
  },
  {
   "cell_type": "markdown",
   "metadata": {},
   "source": [
    "# IDW Corn AGDD 2021"
   ]
  },
  {
   "cell_type": "code",
   "execution_count": 6,
   "metadata": {},
   "outputs": [
    {
     "data": {
      "text/html": [
       "<div class='gpresult'><h2>Messages</h2><div id='messages' data-messages='[\"Start Time: Sunday, December 4, 2022 6:15:34 PM\",\"Succeeded at Sunday, December 4, 2022 6:15:37 PM (Elapsed Time: 3.64 seconds)\"]' data-show='true'><div id = 'default' /></div></div>"
      ],
      "text/plain": [
       "<Result 'C:\\\\Users\\\\subed036\\\\Documents\\\\ArcGIS\\\\Projects\\\\Final project\\\\Final project.gdb\\\\CornAGDD2021_XYTableToPoint2'>"
      ]
     },
     "execution_count": 6,
     "metadata": {},
     "output_type": "execute_result"
    }
   ],
   "source": [
    "arcpy.management.XYTableToPoint(\"Corn AGDD 2021.csv\", r\"C:\\Users\\subed036\\Documents\\ArcGIS\\Projects\\Final project\\Final project.gdb\\CornAGDD2021_XYTableToPoint2\", \"Longitude\", \"Latitude\", None, 'GEOGCS[\"GCS_WGS_1984\",DATUM[\"D_WGS_1984\",SPHEROID[\"WGS_1984\",6378137.0,298.257223563]],PRIMEM[\"Greenwich\",0.0],UNIT[\"Degree\",0.0174532925199433]];-400 -400 1000000000;-100000 10000;-100000 10000;8.98315284119521E-09;0.001;0.001;IsHighPrecision')"
   ]
  },
  {
   "cell_type": "code",
   "execution_count": 8,
   "metadata": {},
   "outputs": [],
   "source": [
    "with arcpy.EnvManager(extent='-104.048900000235 45.9350539996424 -96.5545070003977 49.0005739996904 GEOGCS[\"GCS_North_American_1983\",DATUM[\"D_North_American_1983\",SPHEROID[\"GRS_1980\",6378137.0,298.257222101]],PRIMEM[\"Greenwich\",0.0],UNIT[\"Degree\",0.0174532925199433]]', mask=\"ND\"):\n",
    "    arcpy.ddd.Idw(\"CornAGDD2021_XYTableToPoint2\", \"Corn_Accumulated_Growing_Degree_Days\", r\"C:\\Users\\subed036\\Documents\\ArcGIS\\Projects\\Final project\\Final project.gdb\\Idw_CornAGDD4\", 0.0122620839984271, 2, \"VARIABLE 12\", None)"
   ]
  },
  {
   "cell_type": "code",
   "execution_count": 9,
   "metadata": {},
   "outputs": [
    {
     "data": {
      "text/html": [
       "<div class='gpresult'><h2>Messages</h2><div id='messages' data-messages='[\"Start Time: Sunday, December 4, 2022 6:19:51 PM\",\"Analyzing input features...\",\"Dissolving clip features...\",\"Clipping input features...\",\"Succeeded at Sunday, December 4, 2022 6:19:53 PM (Elapsed Time: 1.52 seconds)\"]' data-show='true'><div id = 'default' /></div></div>"
      ],
      "text/plain": [
       "<Result 'C:\\\\Users\\\\subed036\\\\Documents\\\\ArcGIS\\\\Projects\\\\Final project\\\\Final project.gdb\\\\CornAGDD2021_XYTableToP_Clip1'>"
      ]
     },
     "execution_count": 9,
     "metadata": {},
     "output_type": "execute_result"
    }
   ],
   "source": [
    "arcpy.analysis.Clip(\"CornAGDD2021_XYTableToPoint2\", \"ND\", r\"C:\\Users\\subed036\\Documents\\ArcGIS\\Projects\\Final project\\Final project.gdb\\CornAGDD2021_XYTableToP_Clip1\", None)"
   ]
  },
  {
   "cell_type": "markdown",
   "metadata": {},
   "source": [
    "# IDW Wheat AGDD 2018"
   ]
  },
  {
   "cell_type": "code",
   "execution_count": 12,
   "metadata": {},
   "outputs": [
    {
     "data": {
      "text/html": [
       "<div class='gpresult'><h2>Messages</h2><div id='messages' data-messages='[\"Start Time: Sunday, December 4, 2022 8:31:57 PM\",\"Succeeded at Sunday, December 4, 2022 8:32:01 PM (Elapsed Time: 3.63 seconds)\"]' data-show='true'><div id = 'default' /></div></div>"
      ],
      "text/plain": [
       "<Result 'C:\\\\Users\\\\subed036\\\\Documents\\\\ArcGIS\\\\Projects\\\\Final project\\\\Final project.gdb\\\\WheatAGDD2018_XYTableToPoint1'>"
      ]
     },
     "execution_count": 12,
     "metadata": {},
     "output_type": "execute_result"
    }
   ],
   "source": [
    "arcpy.management.XYTableToPoint(\"WheatAGDD2018.csv\", r\"C:\\Users\\subed036\\Documents\\ArcGIS\\Projects\\Final project\\Final project.gdb\\WheatAGDD2018_XYTableToPoint1\", \"Longitude\", \"Latitude\", None, 'GEOGCS[\"GCS_WGS_1984\",DATUM[\"D_WGS_1984\",SPHEROID[\"WGS_1984\",6378137.0,298.257223563]],PRIMEM[\"Greenwich\",0.0],UNIT[\"Degree\",0.0174532925199433]];-400 -400 1000000000;-100000 10000;-100000 10000;8.98315284119521E-09;0.001;0.001;IsHighPrecision')"
   ]
  },
  {
   "cell_type": "code",
   "execution_count": 13,
   "metadata": {},
   "outputs": [],
   "source": [
    "with arcpy.EnvManager(extent='-104.048900000235 45.9350539996424 -96.5545070003977 49.0005739996904 GEOGCS[\"GCS_North_American_1983\",DATUM[\"D_North_American_1983\",SPHEROID[\"GRS_1980\",6378137.0,298.257222101]],PRIMEM[\"Greenwich\",0.0],UNIT[\"Degree\",0.0174532925199433]]', mask=\"ND\"):\n",
    "    arcpy.ddd.Idw(\"WheatAGDD2018_XYTableToPoint\", \"Wheat_Accumulated_Growing_Degree_Days\", r\"C:\\Users\\subed036\\Documents\\ArcGIS\\Projects\\Final project\\Final project.gdb\\Idw_WheatAGD1\", 0.0122620839984271, 2, \"VARIABLE 12\", None)"
   ]
  },
  {
   "cell_type": "code",
   "execution_count": 14,
   "metadata": {},
   "outputs": [
    {
     "data": {
      "text/html": [
       "<div class='gpresult'><h2>Messages</h2><div id='messages' data-messages='[\"Start Time: Sunday, December 4, 2022 8:35:09 PM\",\"Analyzing input features...\",\"Dissolving clip features...\",\"Clipping input features...\",\"Succeeded at Sunday, December 4, 2022 8:35:10 PM (Elapsed Time: 1.54 seconds)\"]' data-show='true'><div id = 'default' /></div></div>"
      ],
      "text/plain": [
       "<Result 'C:\\\\Users\\\\subed036\\\\Documents\\\\ArcGIS\\\\Projects\\\\Final project\\\\Final project.gdb\\\\ND_Clip'>"
      ]
     },
     "execution_count": 14,
     "metadata": {},
     "output_type": "execute_result"
    }
   ],
   "source": [
    "arcpy.analysis.Clip(\"WheatAGDD2018_XYTableToPoint\", \"ND\", r\"C:\\Users\\subed036\\Documents\\ArcGIS\\Projects\\Final project\\Final project.gdb\\ND_Clip\", None)"
   ]
  },
  {
   "cell_type": "markdown",
   "metadata": {},
   "source": [
    "# IDW wheat AGDD2019"
   ]
  },
  {
   "cell_type": "code",
   "execution_count": 16,
   "metadata": {},
   "outputs": [],
   "source": [
    "with arcpy.EnvManager(extent='-104.048900000235 45.9350539996424 -96.5545070003977 49.0005739996904 GEOGCS[\"GCS_North_American_1983\",DATUM[\"D_North_American_1983\",SPHEROID[\"GRS_1980\",6378137.0,298.257222101]],PRIMEM[\"Greenwich\",0.0],UNIT[\"Degree\",0.0174532925199433]]', mask=\"ND\"):\n",
    "    arcpy.ddd.Idw(\"WheatAGDD2019_XYTableToPoint\", \"Wheat_Accumulated_Growing_Degree_Days\", r\"C:\\Users\\subed036\\Documents\\ArcGIS\\Projects\\Final project\\Final project.gdb\\Idw_WheatAGD2\", 0.0122620839984271, 2, \"VARIABLE 12\", None)"
   ]
  },
  {
   "cell_type": "code",
   "execution_count": 17,
   "metadata": {},
   "outputs": [
    {
     "data": {
      "text/html": [
       "<div class='gpresult'><h2>Messages</h2><div id='messages' data-messages='[\"Start Time: Sunday, December 4, 2022 8:42:36 PM\",\"Analyzing input features...\",\"Dissolving clip features...\",\"Clipping input features...\",\"Succeeded at Sunday, December 4, 2022 8:42:38 PM (Elapsed Time: 2.27 seconds)\"]' data-show='true'><div id = 'default' /></div></div>"
      ],
      "text/plain": [
       "<Result 'C:\\\\Users\\\\subed036\\\\Documents\\\\ArcGIS\\\\Projects\\\\Final project\\\\Final project.gdb\\\\WheatAGDD2019clip'>"
      ]
     },
     "execution_count": 17,
     "metadata": {},
     "output_type": "execute_result"
    }
   ],
   "source": [
    "arcpy.analysis.Clip(\"WheatAGDD2019_XYTableToPoint\", \"ND\", r\"C:\\Users\\subed036\\Documents\\ArcGIS\\Projects\\Final project\\Final project.gdb\\WheatAGDD2019clip\", None)"
   ]
  },
  {
   "cell_type": "markdown",
   "metadata": {},
   "source": [
    "# IDW wheat AGDD 2020"
   ]
  },
  {
   "cell_type": "code",
   "execution_count": 22,
   "metadata": {},
   "outputs": [
    {
     "data": {
      "text/html": [
       "<div class='gpresult'><h2>Messages</h2><div id='messages' data-messages='[\"Start Time: Sunday, December 4, 2022 8:49:24 PM\",\"Succeeded at Sunday, December 4, 2022 8:49:34 PM (Elapsed Time: 10.02 seconds)\"]' data-show='true'><div id = 'default' /></div></div>"
      ],
      "text/plain": [
       "<Result 'C:\\\\Users\\\\subed036\\\\Documents\\\\ArcGIS\\\\Projects\\\\Final project\\\\Final project.gdb\\\\WheatAGDD2020_XYTableToPoint'>"
      ]
     },
     "execution_count": 22,
     "metadata": {},
     "output_type": "execute_result"
    }
   ],
   "source": [
    "arcpy.management.XYTableToPoint(\"WheatAGDD2020.csv\", r\"C:\\Users\\subed036\\Documents\\ArcGIS\\Projects\\Final project\\Final project.gdb\\WheatAGDD2020_XYTableToPoint\", \"Longitude\", \"Latitude\", None, 'GEOGCS[\"GCS_WGS_1984\",DATUM[\"D_WGS_1984\",SPHEROID[\"WGS_1984\",6378137.0,298.257223563]],PRIMEM[\"Greenwich\",0.0],UNIT[\"Degree\",0.0174532925199433]];-400 -400 1000000000;-100000 10000;-100000 10000;8.98315284119521E-09;0.001;0.001;IsHighPrecision')"
   ]
  },
  {
   "cell_type": "code",
   "execution_count": 23,
   "metadata": {},
   "outputs": [
    {
     "data": {
      "text/html": [
       "<div class='gpresult'><h2>Messages</h2><div id='messages' data-messages='[\"Start Time: Sunday, December 4, 2022 8:50:45 PM\",\"Analyzing input features...\",\"Dissolving clip features...\",\"Clipping input features...\",\"Succeeded at Sunday, December 4, 2022 8:50:48 PM (Elapsed Time: 2.98 seconds)\"]' data-show='true'><div id = 'default' /></div></div>"
      ],
      "text/plain": [
       "<Result 'C:\\\\Users\\\\subed036\\\\Documents\\\\ArcGIS\\\\Projects\\\\Final project\\\\Final project.gdb\\\\WheatAGDD2020clip'>"
      ]
     },
     "execution_count": 23,
     "metadata": {},
     "output_type": "execute_result"
    }
   ],
   "source": [
    "arcpy.analysis.Clip(\"WheatAGDD2020_XYTableToPoint\", \"ND\", r\"C:\\Users\\subed036\\Documents\\ArcGIS\\Projects\\Final project\\Final project.gdb\\WheatAGDD2020clip\", None)"
   ]
  },
  {
   "cell_type": "code",
   "execution_count": 25,
   "metadata": {},
   "outputs": [],
   "source": [
    "with arcpy.EnvManager(extent='-104.048900000235 45.9350539996424 -96.5545070003977 49.0005739996904 GEOGCS[\"GCS_North_American_1983\",DATUM[\"D_North_American_1983\",SPHEROID[\"GRS_1980\",6378137.0,298.257222101]],PRIMEM[\"Greenwich\",0.0],UNIT[\"Degree\",0.0174532925199433]]', mask=\"ND\"):\n",
    "    arcpy.ddd.Idw(\"WheatAGDD2020_XYTableToPoint\", \"Wheat_Accumulated_Growing_Degree_Days\", r\"C:\\Users\\subed036\\Documents\\ArcGIS\\Projects\\Final project\\Final project.gdb\\Idw_WheatAGD3\", 0.0122620839984271, 2, \"VARIABLE 12\", None)"
   ]
  },
  {
   "cell_type": "markdown",
   "metadata": {},
   "source": [
    "# IDW Wheat AGDD 2021"
   ]
  },
  {
   "cell_type": "code",
   "execution_count": 27,
   "metadata": {},
   "outputs": [
    {
     "data": {
      "text/html": [
       "<div class='gpresult'><h2>Messages</h2><div id='messages' data-messages='[\"Start Time: Sunday, December 4, 2022 9:05:38 PM\",\"Succeeded at Sunday, December 4, 2022 9:05:50 PM (Elapsed Time: 12.17 seconds)\"]' data-show='true'><div id = 'default' /></div></div>"
      ],
      "text/plain": [
       "<Result 'C:\\\\Users\\\\subed036\\\\Documents\\\\ArcGIS\\\\Projects\\\\Final project\\\\Final project.gdb\\\\WheatAGDD2021_XYTableToPoint'>"
      ]
     },
     "execution_count": 27,
     "metadata": {},
     "output_type": "execute_result"
    }
   ],
   "source": [
    "arcpy.management.XYTableToPoint(\"WheatAGDD2021.csv\", r\"C:\\Users\\subed036\\Documents\\ArcGIS\\Projects\\Final project\\Final project.gdb\\WheatAGDD2021_XYTableToPoint\", \"Longitude\", \"Latitude\", None, 'GEOGCS[\"GCS_WGS_1984\",DATUM[\"D_WGS_1984\",SPHEROID[\"WGS_1984\",6378137.0,298.257223563]],PRIMEM[\"Greenwich\",0.0],UNIT[\"Degree\",0.0174532925199433]];-400 -400 1000000000;-100000 10000;-100000 10000;8.98315284119521E-09;0.001;0.001;IsHighPrecision')"
   ]
  },
  {
   "cell_type": "code",
   "execution_count": 28,
   "metadata": {},
   "outputs": [
    {
     "data": {
      "text/html": [
       "<div class='gpresult'><h2>Messages</h2><div id='messages' data-messages='[\"Start Time: Sunday, December 4, 2022 9:06:45 PM\",\"Analyzing input features...\",\"Dissolving clip features...\",\"Clipping input features...\",\"Succeeded at Sunday, December 4, 2022 9:06:48 PM (Elapsed Time: 3.35 seconds)\"]' data-show='true'><div id = 'default' /></div></div>"
      ],
      "text/plain": [
       "<Result 'C:\\\\Users\\\\subed036\\\\Documents\\\\ArcGIS\\\\Projects\\\\Final project\\\\Final project.gdb\\\\WheatAGDD2021clip'>"
      ]
     },
     "execution_count": 28,
     "metadata": {},
     "output_type": "execute_result"
    }
   ],
   "source": [
    "arcpy.analysis.Clip(\"WheatAGDD2021_XYTableToPoint\", \"ND\", r\"C:\\Users\\subed036\\Documents\\ArcGIS\\Projects\\Final project\\Final project.gdb\\WheatAGDD2021clip\", None)"
   ]
  },
  {
   "cell_type": "code",
   "execution_count": 29,
   "metadata": {},
   "outputs": [],
   "source": [
    "with arcpy.EnvManager(extent='-104.048900000235 45.9350539996424 -96.5545070003977 49.0005739996904 GEOGCS[\"GCS_North_American_1983\",DATUM[\"D_North_American_1983\",SPHEROID[\"GRS_1980\",6378137.0,298.257222101]],PRIMEM[\"Greenwich\",0.0],UNIT[\"Degree\",0.0174532925199433]]', mask=\"ND\"):\n",
    "    arcpy.ddd.Idw(\"WheatAGDD2021clip\", \"Wheat_Accumulated_Growing_Degree_Days\", r\"C:\\Users\\subed036\\Documents\\ArcGIS\\Projects\\Final project\\Final project.gdb\\Idw_WheatAGD4\", 0.0122620839984271, 2, \"VARIABLE 12\", None)"
   ]
  },
  {
   "cell_type": "markdown",
   "metadata": {},
   "source": [
    "# kriging 2018 cornAGDD"
   ]
  },
  {
   "cell_type": "code",
   "execution_count": 2,
   "metadata": {},
   "outputs": [],
   "source": [
    "with arcpy.EnvManager(extent='-104.048900000235 45.9350539996424 -96.5545070003977 49.0005739996904 GEOGCS[\"GCS_North_American_1983\",DATUM[\"D_North_American_1983\",SPHEROID[\"GRS_1980\",6378137.0,298.257222101]],PRIMEM[\"Greenwich\",0.0],UNIT[\"Degree\",0.0174532925199433]]', mask=\"ND\"):\n",
    "    arcpy.ddd.Kriging(\"CornAGDD2018_XYTableToPoint1\", \"Corn_Accumulated_Growing_Degree_Days\", r\"C:\\Users\\subed036\\Documents\\ArcGIS\\Projects\\Final project\\Final project.gdb\\Kriging_Corn2\", \"Spherical # # # #\", 0.0122620800001918, \"VARIABLE 12\", None)"
   ]
  },
  {
   "cell_type": "code",
   "execution_count": 3,
   "metadata": {},
   "outputs": [],
   "source": [
    "with arcpy.EnvManager(extent='-104.048900000235 45.9350539996424 -96.5545070003977 49.0005739996904 GEOGCS[\"GCS_North_American_1983\",DATUM[\"D_North_American_1983\",SPHEROID[\"GRS_1980\",6378137.0,298.257222101]],PRIMEM[\"Greenwich\",0.0],UNIT[\"Degree\",0.0174532925199433]]', mask=\"ND\"):\n",
    "    arcpy.ddd.Kriging(\"CornAGDD2018_XYTableToPoint1\", \"Corn_Accumulated_Growing_Degree_Days\", r\"C:\\Users\\subed036\\Documents\\ArcGIS\\Projects\\Final project\\Final project.gdb\\Kriging_Corn2\", \"Spherical # # # #\", 0.0122620800001918, \"VARIABLE 12\", None)"
   ]
  },
  {
   "cell_type": "markdown",
   "metadata": {},
   "source": [
    "# Kriging 2019 CornAGDD"
   ]
  },
  {
   "cell_type": "code",
   "execution_count": 5,
   "metadata": {},
   "outputs": [],
   "source": [
    "with arcpy.EnvManager(extent='-104.048900000235 45.9350539996424 -96.5545070003977 49.0005739996904 GEOGCS[\"GCS_North_American_1983\",DATUM[\"D_North_American_1983\",SPHEROID[\"GRS_1980\",6378137.0,298.257222101]],PRIMEM[\"Greenwich\",0.0],UNIT[\"Degree\",0.0174532925199433]]', mask=\"ND\"):\n",
    "    arcpy.ddd.Kriging(\"CornAGDD2019_XYTableToP_Clip\", \"Corn_Accumulated_Growing_Degree_Days\", r\"C:\\Users\\subed036\\Documents\\ArcGIS\\Projects\\Final project\\Final project.gdb\\Kriging_Corn3\", \"Spherical # # # #\", 0.0122620839984271, \"VARIABLE 12\", None)"
   ]
  },
  {
   "cell_type": "markdown",
   "metadata": {},
   "source": [
    "# kriging 2020 CornAGDD"
   ]
  },
  {
   "cell_type": "code",
   "execution_count": 7,
   "metadata": {},
   "outputs": [],
   "source": [
    "with arcpy.EnvManager(extent='-104.048900000235 45.9350539996424 -96.5545070003977 49.0005739996904 GEOGCS[\"GCS_North_American_1983\",DATUM[\"D_North_American_1983\",SPHEROID[\"GRS_1980\",6378137.0,298.257222101]],PRIMEM[\"Greenwich\",0.0],UNIT[\"Degree\",0.0174532925199433]]', mask=\"ND\"):\n",
    "    arcpy.ddd.Kriging(\"cornGDD2020clip\", \"Corn_Accumulated_Growing_Degree_Days\", r\"C:\\Users\\subed036\\Documents\\ArcGIS\\Projects\\Final project\\Final project.gdb\\Kriging_corn4\", \"Spherical # # # #\", 0.0122620839984271, \"VARIABLE 12\", None)"
   ]
  },
  {
   "cell_type": "markdown",
   "metadata": {},
   "source": [
    "# kriging 2021 CornAGDD"
   ]
  },
  {
   "cell_type": "code",
   "execution_count": 9,
   "metadata": {},
   "outputs": [],
   "source": [
    "with arcpy.EnvManager(extent='-104.048900000235 45.9350539996424 -96.5545070003977 49.0005739996904 GEOGCS[\"GCS_North_American_1983\",DATUM[\"D_North_American_1983\",SPHEROID[\"GRS_1980\",6378137.0,298.257222101]],PRIMEM[\"Greenwich\",0.0],UNIT[\"Degree\",0.0174532925199433]]', mask=\"ND\"):\n",
    "    arcpy.ddd.Kriging(\"CornAGDD2021_XYTableToP_Clip1\", \"Corn_Accumulated_Growing_Degree_Days\", r\"C:\\Users\\subed036\\Documents\\ArcGIS\\Projects\\Final project\\Final project.gdb\\Kriging_Corn5\", \"Spherical # # # #\", 0.0122620839984271, \"VARIABLE 12\", None)"
   ]
  },
  {
   "cell_type": "markdown",
   "metadata": {},
   "source": [
    "# Kriging 2018 wheat"
   ]
  },
  {
   "cell_type": "code",
   "execution_count": 11,
   "metadata": {},
   "outputs": [],
   "source": [
    "with arcpy.EnvManager(extent='-104.048900000235 45.9350539996424 -96.5545070003977 49.0005739996904 GEOGCS[\"GCS_North_American_1983\",DATUM[\"D_North_American_1983\",SPHEROID[\"GRS_1980\",6378137.0,298.257222101]],PRIMEM[\"Greenwich\",0.0],UNIT[\"Degree\",0.0174532925199433]]', mask=\"ND\"):\n",
    "    arcpy.ddd.Kriging(\"Wheat2018clip\", \"Wheat_Accumulated_Growing_Degree_Days\", r\"C:\\Users\\subed036\\Documents\\ArcGIS\\Projects\\Final project\\Final project.gdb\\Kriging_ND_C1\", \"Spherical # # # #\", 0.0122620839984271, \"VARIABLE 12\", None)"
   ]
  },
  {
   "cell_type": "markdown",
   "metadata": {},
   "source": [
    "# kriging 2019 wheat"
   ]
  },
  {
   "cell_type": "code",
   "execution_count": 12,
   "metadata": {},
   "outputs": [],
   "source": [
    "with arcpy.EnvManager(extent='-104.048900000235 45.9350539996424 -96.5545070003977 49.0005739996904 GEOGCS[\"GCS_North_American_1983\",DATUM[\"D_North_American_1983\",SPHEROID[\"GRS_1980\",6378137.0,298.257222101]],PRIMEM[\"Greenwich\",0.0],UNIT[\"Degree\",0.0174532925199433]]', mask=\"ND\"):\n",
    "    arcpy.ddd.Kriging(\"WheatAGDD2019clip\", \"Wheat_Accumulated_Growing_Degree_Days\", r\"C:\\Users\\subed036\\Documents\\ArcGIS\\Projects\\Final project\\Final project.gdb\\Kriging_Whea1\", \"Spherical # # # #\", 0.0122620839984271, \"VARIABLE 12\", None)"
   ]
  },
  {
   "cell_type": "markdown",
   "metadata": {},
   "source": [
    "# kriging 2020 wheat"
   ]
  },
  {
   "cell_type": "code",
   "execution_count": 14,
   "metadata": {},
   "outputs": [],
   "source": [
    "with arcpy.EnvManager(extent='-104.048900000235 45.9350539996424 -96.5545070003977 49.0005739996904 GEOGCS[\"GCS_North_American_1983\",DATUM[\"D_North_American_1983\",SPHEROID[\"GRS_1980\",6378137.0,298.257222101]],PRIMEM[\"Greenwich\",0.0],UNIT[\"Degree\",0.0174532925199433]]', mask=\"ND\"):\n",
    "    arcpy.ddd.Kriging(\"WheatAGDD2020clip\", \"Wheat_Accumulated_Growing_Degree_Days\", r\"C:\\Users\\subed036\\Documents\\ArcGIS\\Projects\\Final project\\Final project.gdb\\Kriging_Whea2\", \"Spherical # # # #\", 0.0122620839984271, \"VARIABLE 12\", None)"
   ]
  },
  {
   "cell_type": "markdown",
   "metadata": {},
   "source": [
    "# kriging 2021 wheat"
   ]
  },
  {
   "cell_type": "code",
   "execution_count": 17,
   "metadata": {},
   "outputs": [],
   "source": [
    "with arcpy.EnvManager(extent='-104.048900000235 45.9350539996424 -96.5545070003977 49.0005739996904 GEOGCS[\"GCS_North_American_1983\",DATUM[\"D_North_American_1983\",SPHEROID[\"GRS_1980\",6378137.0,298.257222101]],PRIMEM[\"Greenwich\",0.0],UNIT[\"Degree\",0.0174532925199433]]', mask=\"ND\"):\n",
    "    arcpy.ddd.Kriging(\"WheatAGDD2021clip\", \"Wheat_Accumulated_Growing_Degree_Days\", r\"C:\\Users\\subed036\\Documents\\ArcGIS\\Projects\\Final project\\Final project.gdb\\Kriging_Whea5\", \"Spherical # # # #\", 0.0122620839984271, \"VARIABLE 12\", None)"
   ]
  }
 ],
 "metadata": {
  "kernelspec": {
   "display_name": "ArcGISPro",
   "language": "Python",
   "name": "python3"
  },
  "language_info": {
   "file_extension": ".py",
   "name": "python",
   "version": "3"
  }
 },
 "nbformat": 4,
 "nbformat_minor": 2
}
