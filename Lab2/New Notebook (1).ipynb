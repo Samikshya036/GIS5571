{
 "cells": [
  {
   "cell_type": "code",
   "execution_count": 1,
   "metadata": {},
   "outputs": [],
   "source": [
    "import arcpy\n",
    "import requests\n",
    "import os\n",
    "import zipfile\n",
    "import io\n",
    "import sys"
   ]
  },
  {
   "cell_type": "code",
   "execution_count": 1,
   "metadata": {},
   "outputs": [
    {
     "data": {
      "text/html": [
       "<div class='gpresult'><h2>Messages</h2><div id='messages' data-messages='[\"Start Time: Wednesday, November 2, 2022 5:23:03 PM\",\"Dissolving...\",\"Succeeded at Wednesday, November 2, 2022 5:23:06 PM (Elapsed Time: 2.68 seconds)\"]' data-show='true'><div id = 'default' /></div></div>"
      ],
      "text/plain": [
       "<Result 'C:\\\\Users\\\\subed036\\\\Documents\\\\ArcGIS\\\\Projects\\\\Lab2part2\\\\Lab2part2.gdb\\\\mn_county_boundarie_Dissolve'>"
      ]
     },
     "execution_count": 1,
     "metadata": {},
     "output_type": "execute_result"
    }
   ],
   "source": [
    "arcpy.management.Dissolve(\"mn_county_boundaries_multipart\", r\"C:\\Users\\subed036\\Documents\\ArcGIS\\Projects\\Lab2part2\\Lab2part2.gdb\\mn_county_boundarie_Dissolve\", None, None, \"MULTI_PART\", \"DISSOLVE_LINES\", '')"
   ]
  },
  {
   "cell_type": "code",
   "execution_count": 1,
   "metadata": {},
   "outputs": [],
   "source": [
    "out_raster = arcpy.sa.ExtractByMask(\"NLCD 2019 - Land Cover\", \"mn_county_boundarie_Dissolve\", \"INSIDE\", '524966.6376 4853462.8394 637916.1448 4922619.9426 PROJCS[\"NAD_1983_UTM_Zone_15N\",GEOGCS[\"GCS_North_American_1983\",DATUM[\"D_North_American_1983\",SPHEROID[\"GRS_1980\",6378137.0,298.257222101]],PRIMEM[\"Greenwich\",0.0],UNIT[\"Degree\",0.0174532925199433]],PROJECTION[\"Transverse_Mercator\"],PARAMETER[\"False_Easting\",500000.0],PARAMETER[\"False_Northing\",0.0],PARAMETER[\"Central_Meridian\",-93.0],PARAMETER[\"Scale_Factor\",0.9996],PARAMETER[\"Latitude_Of_Origin\",0.0],UNIT[\"Meter\",1.0]]'); out_raster.save(r\"C:\\Users\\subed036\\Documents\\ArcGIS\\Projects\\Lab2part2\\Lab2part2.gdb\\Extract_NLCD1\")"
   ]
  },
  {
   "cell_type": "code",
   "execution_count": 2,
   "metadata": {},
   "outputs": [],
   "source": [
    "out_raster = arcpy.sa.ExtractByMask(\"NLCD 2019 - Imperviousness\", \"mn_county_boundarie_Dissolve\", \"INSIDE\", '524966.6376 4853462.8394 637916.1448 4922619.9426 PROJCS[\"NAD_1983_UTM_Zone_15N\",GEOGCS[\"GCS_North_American_1983\",DATUM[\"D_North_American_1983\",SPHEROID[\"GRS_1980\",6378137.0,298.257222101]],PRIMEM[\"Greenwich\",0.0],UNIT[\"Degree\",0.0174532925199433]],PROJECTION[\"Transverse_Mercator\"],PARAMETER[\"False_Easting\",500000.0],PARAMETER[\"False_Northing\",0.0],PARAMETER[\"Central_Meridian\",-93.0],PARAMETER[\"Scale_Factor\",0.9996],PARAMETER[\"Latitude_Of_Origin\",0.0],UNIT[\"Meter\",1.0]]'); out_raster.save(r\"C:\\Users\\subed036\\Documents\\ArcGIS\\Projects\\Lab2part2\\Lab2part2.gdb\\Extract_NLCD1\")"
   ]
  },
  {
   "cell_type": "code",
   "execution_count": 3,
   "metadata": {},
   "outputs": [],
   "source": [
    "out_raster = arcpy.sa.ExtractByMask(\"digital_elevation_model_30m\", \"mn_county_boundarie_Dissolve\", \"INSIDE\", '524966.6376 4853462.8394 637916.1448 4922619.9426 PROJCS[\"NAD_1983_UTM_Zone_15N\",GEOGCS[\"GCS_North_American_1983\",DATUM[\"D_North_American_1983\",SPHEROID[\"GRS_1980\",6378137.0,298.257222101]],PRIMEM[\"Greenwich\",0.0],UNIT[\"Degree\",0.0174532925199433]],PROJECTION[\"Transverse_Mercator\"],PARAMETER[\"False_Easting\",500000.0],PARAMETER[\"False_Northing\",0.0],PARAMETER[\"Central_Meridian\",-93.0],PARAMETER[\"Scale_Factor\",0.9996],PARAMETER[\"Latitude_Of_Origin\",0.0],UNIT[\"Meter\",1.0]]'); out_raster.save(r\"C:\\Users\\subed036\\Documents\\ArcGIS\\Projects\\Lab2part2\\Lab2part2.gdb\\Extract_digi1\")"
   ]
  },
  {
   "cell_type": "code",
   "execution_count": 4,
   "metadata": {},
   "outputs": [
    {
     "data": {
      "text/html": [
       "<div class='gpresult'><h2>Messages</h2><div id='messages' data-messages='[\"Start Time: Sunday, October 30, 2022 2:30:30 PM\",\"Succeeded at Sunday, October 30, 2022 2:30:38 PM (Elapsed Time: 8.04 seconds)\"]' data-show='true'><div id = 'default' /></div></div>"
      ],
      "text/plain": [
       "<Result 'C:\\\\Users\\\\subed036\\\\Documents\\\\ArcGIS\\\\Projects\\\\Lab2part2\\\\Lab2part2.gdb\\\\Feature_stre1'>"
      ]
     },
     "execution_count": 4,
     "metadata": {},
     "output_type": "execute_result"
    }
   ],
   "source": [
    "arcpy.conversion.FeatureToRaster(\"streams_with_strahler_stream_order\", \"FW_ID\", r\"C:\\Users\\subed036\\Documents\\ArcGIS\\Projects\\Lab2part2\\Lab2part2.gdb\\Feature_stre1\", 2428.2504384)"
   ]
  },
  {
   "cell_type": "markdown",
   "metadata": {},
   "source": [
    "# Extract by mask"
   ]
  },
  {
   "cell_type": "code",
   "execution_count": 5,
   "metadata": {},
   "outputs": [],
   "source": [
    "out_raster = arcpy.sa.ExtractByMask(\"Feature_stre1\", \"mn_county_boundarie_Dissolve\", \"INSIDE\", '524966.6376 4853462.8394 637916.1448 4922619.9426 PROJCS[\"NAD_1983_UTM_Zone_15N\",GEOGCS[\"GCS_North_American_1983\",DATUM[\"D_North_American_1983\",SPHEROID[\"GRS_1980\",6378137.0,298.257222101]],PRIMEM[\"Greenwich\",0.0],UNIT[\"Degree\",0.0174532925199433]],PROJECTION[\"Transverse_Mercator\"],PARAMETER[\"False_Easting\",500000.0],PARAMETER[\"False_Northing\",0.0],PARAMETER[\"Central_Meridian\",-93.0],PARAMETER[\"Scale_Factor\",0.9996],PARAMETER[\"Latitude_Of_Origin\",0.0],UNIT[\"Meter\",1.0]],VERTCS[\"NAD_1983\",DATUM[\"D_North_American_1983\",SPHEROID[\"GRS_1980\",6378137.0,298.257222101]],PARAMETER[\"Vertical_Shift\",0.0],PARAMETER[\"Direction\",1.0],UNIT[\"Meter\",1.0]]'); out_raster.save(r\"C:\\Users\\subed036\\Documents\\ArcGIS\\Projects\\Lab2part2\\Lab2part2.gdb\\Extract_Feat1\")"
   ]
  },
  {
   "cell_type": "code",
   "execution_count": 6,
   "metadata": {},
   "outputs": [
    {
     "data": {
      "text/html": [
       "<div class='gpresult'><h2>Messages</h2><div id='messages' data-messages='[\"Start Time: Sunday, October 30, 2022 2:36:38 PM\",\"Analyzing input features...\",\"Dissolving clip features...\",\"Clipping input features...\",\"Succeeded at Sunday, October 30, 2022 2:36:40 PM (Elapsed Time: 2.91 seconds)\"]' data-show='true'><div id = 'default' /></div></div>"
      ],
      "text/plain": [
       "<Result 'C:\\\\Users\\\\subed036\\\\Documents\\\\ArcGIS\\\\Projects\\\\Lab2part2\\\\Lab2part2.gdb\\\\streams_with_strahler_s_Clip'>"
      ]
     },
     "execution_count": 6,
     "metadata": {},
     "output_type": "execute_result"
    }
   ],
   "source": [
    "arcpy.analysis.Clip(\"streams_with_strahler_stream_order\", \"mn_county_boundarie_Dissolve\", r\"C:\\Users\\subed036\\Documents\\ArcGIS\\Projects\\Lab2part2\\Lab2part2.gdb\\streams_with_strahler_s_Clip\", None)"
   ]
  },
  {
   "cell_type": "markdown",
   "metadata": {},
   "source": [
    "# Streams in the study extent"
   ]
  },
  {
   "cell_type": "code",
   "execution_count": 7,
   "metadata": {},
   "outputs": [
    {
     "data": {
      "text/html": [
       "<div class='gpresult'><h2>Messages</h2><div id='messages' data-messages='[\"Start Time: Sunday, October 30, 2022 2:48:59 PM\",\"Succeeded at Sunday, October 30, 2022 2:49:04 PM (Elapsed Time: 5.03 seconds)\"]' data-show='true'><div id = 'default' /></div></div>"
      ],
      "text/plain": [
       "<Result 'C:\\\\Users\\\\subed036\\\\Documents\\\\ArcGIS\\\\Projects\\\\Lab2part2\\\\Lab2part2.gdb\\\\Feature_stre2'>"
      ]
     },
     "execution_count": 7,
     "metadata": {},
     "output_type": "execute_result"
    }
   ],
   "source": [
    "arcpy.conversion.FeatureToRaster(\"streams_with_strahler_s_Clip\", \"FW_ID\", r\"C:\\Users\\subed036\\Documents\\ArcGIS\\Projects\\Lab2part2\\Lab2part2.gdb\\Feature_stre2\", 276.583641600005)"
   ]
  },
  {
   "cell_type": "code",
   "execution_count": 8,
   "metadata": {},
   "outputs": [],
   "source": [
    "out_raster = arcpy.sa.Reclassify(\"Extract_NLCD2\", \"NLCD_Land\", \"'Open Water' 1;'Developed, Open Space' 2;'Developed, Low Intensity' 3;'Developed, Medium Intensity' 4;'Developed, High Intensity' 5;'Barren Land' 6;'Deciduous Forest' 7;'Evergreen Forest' 8;'Mixed Forest' 9;Shrub/Scrub 10;Herbaceous 11;Hay/Pasture 12;'Cultivated Crops' 13;'Woody Wetlands' 14;'Emergent Herbaceous Wetlands' 15\", \"DATA\"); out_raster.save(r\"C:\\Users\\subed036\\Documents\\ArcGIS\\Projects\\Lab2part2\\Lab2part2.gdb\\Reclass_Extr1\")"
   ]
  },
  {
   "cell_type": "code",
   "execution_count": 9,
   "metadata": {},
   "outputs": [],
   "source": [
    "out_raster = arcpy.sa.Reclassify(\"Extract_NLCD2\", \"NLCD_Land\", \"'Open Water' 9;'Developed, Open Space' 1;'Developed, Low Intensity' 2;'Developed, Medium Intensity' 3;'Developed, High Intensity' 4;'Barren Land' 1;'Deciduous Forest' 6;'Evergreen Forest' 8;'Mixed Forest' 7;Shrub/Scrub 6;Herbaceous 8;Hay/Pasture 12;'Cultivated Crops' 13;'Woody Wetlands' 14;'Emergent Herbaceous Wetlands' 15\", \"DATA\"); out_raster.save(r\"C:\\Users\\subed036\\Documents\\ArcGIS\\Projects\\Lab2part2\\Lab2part2.gdb\\Reclass_Extr1\")"
   ]
  },
  {
   "cell_type": "code",
   "execution_count": 10,
   "metadata": {},
   "outputs": [],
   "source": [
    "out_raster = arcpy.sa.Reclassify(\"out_raster\", \"NLCD_Land\", \"'Developed, Open Space/Barren Land' 1;'Developed, Low Intensity' 2;'Developed, Medium Intensity' 3;'Developed, High Intensity' 4;'Deciduous Forest/Shrub/Scrub' 5;'Mixed Forest' 6;'Evergreen Forest/Herbaceous' 7;'Open Water' 8;Hay/Pasture 9;'Cultivated Crops' 10;'Woody Wetlands' 11;'Emergent Herbaceous Wetlands' 12\", \"DATA\"); out_raster.save(r\"C:\\Users\\subed036\\Documents\\ArcGIS\\Projects\\Lab2part2\\Lab2part2.gdb\\Reclass_Recl2\")"
   ]
  },
  {
   "cell_type": "code",
   "execution_count": 11,
   "metadata": {},
   "outputs": [
    {
     "data": {
      "text/html": [
       "<div class='gpresult'><h2>Messages</h2><div id='messages' data-messages='[\"Start Time: Sunday, October 30, 2022 3:00:21 PM\",\"Succeeded at Sunday, October 30, 2022 3:00:27 PM (Elapsed Time: 5.93 seconds)\"]' data-show='true'><div id = 'default' /></div></div>"
      ],
      "text/plain": [
       "<Result 'C:\\\\Users\\\\subed036\\\\Documents\\\\ArcGIS\\\\Projects\\\\Lab2part2\\\\Lab2part2.gdb\\\\Slope_Extrac1'>"
      ]
     },
     "execution_count": 11,
     "metadata": {},
     "output_type": "execute_result"
    }
   ],
   "source": [
    "arcpy.ddd.Slope(\"Extract_digi1\", r\"C:\\Users\\subed036\\Documents\\ArcGIS\\Projects\\Lab2part2\\Lab2part2.gdb\\Slope_Extrac1\", \"PERCENT_RISE\", 1, \"PLANAR\", \"METER\")"
   ]
  },
  {
   "cell_type": "markdown",
   "metadata": {},
   "source": [
    "# Reclassification"
   ]
  },
  {
   "cell_type": "code",
   "execution_count": 12,
   "metadata": {},
   "outputs": [],
   "source": [
    "out_raster = arcpy.sa.Reclassify(\"Extract_digi1\", \"VALUE\", None, \"DATA\"); out_raster.save(r\"C:\\Users\\subed036\\Documents\\ArcGIS\\Projects\\Lab2part2\\Lab2part2.gdb\\Reclass_Extr2\")"
   ]
  },
  {
   "cell_type": "code",
   "execution_count": 13,
   "metadata": {},
   "outputs": [],
   "source": [
    "out_raster = arcpy.sa.Reclassify(\"Reclass_Slop1\", \"Value\", \"1 1;2 2;3 3;4 4;5 5;6 6;7 7;8 8;9 9;10 9;11 9\", \"DATA\"); out_raster.save(r\"C:\\Users\\subed036\\Documents\\ArcGIS\\Projects\\Lab2part2\\Lab2part2.gdb\\Reclass_Recl3\")"
   ]
  },
  {
   "cell_type": "code",
   "execution_count": 14,
   "metadata": {},
   "outputs": [],
   "source": [
    "out_raster = arcpy.sa.Reclassify(\"out_raster\", \"Value\", \"1 1;2 2;3 3;4 4;5 5;6 6;7 7;8 8;9 9\", \"DATA\"); out_raster.save(r\"C:\\Users\\subed036\\Documents\\ArcGIS\\Projects\\Lab2part2\\Lab2part2.gdb\\Reclass_Recl4\")"
   ]
  },
  {
   "cell_type": "code",
   "execution_count": 15,
   "metadata": {},
   "outputs": [],
   "source": [
    "out_raster = arcpy.sa.WeightedOverlay(r\"('C:\\Users\\subed036\\Documents\\ArcGIS\\Projects\\Lab2part2\\Lab2part2.gdb\\Reclass_Recl4' 25 'Value' (1 1; 2 2; 3 3; 4 4; 5 5; 6 6; 7 7; 8 8; 9 9; NODATA NODATA); 'C:\\Users\\subed036\\Documents\\ArcGIS\\Projects\\Lab2part2\\Lab2part2.gdb\\Reclass_Recl3' 25 'Value' (1 1; 2 2; 3 3; 4 4; 5 5; 6 6; 7 7; 8 8; 9 9; NODATA NODATA); 'C:\\Users\\subed036\\Documents\\ArcGIS\\Projects\\Lab2part2\\Lab2part2.gdb\\Reclass_Extr1' 25 'Value' (1 1; 2 2; 3 3; 4 4; 6 6; 7 7; 8 8; 9 9; 12 1; 13 1; 14 1; 15 1; NODATA NODATA); 'C:\\Users\\subed036\\Documents\\ArcGIS\\Projects\\Lab2part2\\Lab2part2.gdb\\Reclass_Feat1' 25 'Value' (1 1; 8 8; 9 9; NODATA NODATA));1 9 1\"); out_raster.save(r\"C:\\Users\\subed036\\Documents\\ArcGIS\\Projects\\Lab2part2\\Lab2part2.gdb\\Weighte_Recl1\")"
   ]
  },
  {
   "cell_type": "code",
   "execution_count": 16,
   "metadata": {},
   "outputs": [
    {
     "data": {
      "text/html": [
       "<div class='gpresult'><h2>Messages</h2><div id='messages' data-messages='[\"Start Time: Sunday, October 30, 2022 3:35:33 PM\",\"Succeeded at Sunday, October 30, 2022 3:35:35 PM (Elapsed Time: 2.30 seconds)\"]' data-show='true'><div id = 'default' /></div></div>"
      ],
      "text/plain": [
       "<Result 'C:\\\\Users\\\\subed036\\\\Documents\\\\ArcGIS\\\\Projects\\\\Lab2part2\\\\Lab2part2.gdb\\\\Dorilocation_XYTableToPoint'>"
      ]
     },
     "execution_count": 16,
     "metadata": {},
     "output_type": "execute_result"
    }
   ],
   "source": [
    "arcpy.management.XYTableToPoint(r\"C:\\Users\\subed036\\Downloads\\Dori location.csv\", r\"C:\\Users\\subed036\\Documents\\ArcGIS\\Projects\\Lab2part2\\Lab2part2.gdb\\Dorilocation_XYTableToPoint\", \"Lat\", \"Log\", None, 'GEOGCS[\"GCS_WGS_1984\",DATUM[\"D_WGS_1984\",SPHEROID[\"WGS_1984\",6378137.0,298.257223563]],PRIMEM[\"Greenwich\",0.0],UNIT[\"Degree\",0.0174532925199433]];-400 -400 1000000000;-100000 10000;-100000 10000;8.98315284119521E-09;0.001;0.001;IsHighPrecision')"
   ]
  },
  {
   "cell_type": "code",
   "execution_count": 17,
   "metadata": {},
   "outputs": [
    {
     "data": {
      "text/html": [
       "<div class='gpresult'><h2>Messages</h2><div id='messages' data-messages='[\"Start Time: Sunday, October 30, 2022 4:40:18 PM\",\"Succeeded at Sunday, October 30, 2022 4:40:23 PM (Elapsed Time: 4.60 seconds)\"]' data-show='true'><div id = 'default' /></div></div>"
      ],
      "text/plain": [
       "<Result 'C:\\\\Users\\\\subed036\\\\Documents\\\\ArcGIS\\\\Projects\\\\Lab2part2\\\\Lab2part2.gdb\\\\Feature_stre3'>"
      ]
     },
     "execution_count": 17,
     "metadata": {},
     "output_type": "execute_result"
    }
   ],
   "source": [
    "arcpy.conversion.FeatureToRaster(\"streams_with_strahler_s_Clip\", \"FW_ID\", r\"C:\\Users\\subed036\\Documents\\ArcGIS\\Projects\\Lab2part2\\Lab2part2.gdb\\Feature_stre3\", 276.583641600005)"
   ]
  },
  {
   "cell_type": "code",
   "execution_count": 18,
   "metadata": {},
   "outputs": [],
   "source": [
    "out_raster = arcpy.sa.Reclassify(\"Feature_stre3\", \"Value\", \"0 13757 1;13757 27514 2;27514 41271 3;41271 55028 4;55028 68785 5;68785 82542 6;82542 96299 7;96299 110056 8;110056 123813 9;NODATA 1\", \"DATA\"); out_raster.save(r\"C:\\Users\\subed036\\Documents\\ArcGIS\\Projects\\Lab2part2\\Lab2part2.gdb\\Reclass_Feat2\")"
   ]
  },
  {
   "cell_type": "code",
   "execution_count": 19,
   "metadata": {},
   "outputs": [],
   "source": [
    "out_raster = arcpy.sa.ExtractByMask(\"out_raster\", \"mn_county_boundarie_Dissolve\", \"INSIDE\", '524966.6376 4853462.8394 637127.270568802 4922619.9426 PROJCS[\"NAD_1983_UTM_Zone_15N\",GEOGCS[\"GCS_North_American_1983\",DATUM[\"D_North_American_1983\",SPHEROID[\"GRS_1980\",6378137.0,298.257222101]],PRIMEM[\"Greenwich\",0.0],UNIT[\"Degree\",0.0174532925199433]],PROJECTION[\"Transverse_Mercator\"],PARAMETER[\"False_Easting\",500000.0],PARAMETER[\"False_Northing\",0.0],PARAMETER[\"Central_Meridian\",-93.0],PARAMETER[\"Scale_Factor\",0.9996],PARAMETER[\"Latitude_Of_Origin\",0.0],UNIT[\"Meter\",1.0]],VERTCS[\"NAD_1983\",DATUM[\"D_North_American_1983\",SPHEROID[\"GRS_1980\",6378137.0,298.257222101]],PARAMETER[\"Vertical_Shift\",0.0],PARAMETER[\"Direction\",1.0],UNIT[\"Meter\",1.0]]'); out_raster.save(r\"C:\\Users\\subed036\\Documents\\ArcGIS\\Projects\\Lab2part2\\Lab2part2.gdb\\Extract_Recl1\")"
   ]
  },
  {
   "cell_type": "code",
   "execution_count": 20,
   "metadata": {},
   "outputs": [],
   "source": [
    "out_raster = arcpy.sa.WeightedOverlay(r\"('C:\\Users\\subed036\\Documents\\ArcGIS\\Projects\\Lab2part2\\Lab2part2.gdb\\Extract_Recl1' 33 'Value' (1 1; 8 8; 9 9; NODATA NODATA); 'C:\\Users\\subed036\\Documents\\ArcGIS\\Projects\\Lab2part2\\Lab2part2.gdb\\Reclass_Recl4' 33 'Value' (1 1; 2 2; 3 3; 4 4; 5 5; 6 6; 7 7; 8 8; 9 9; NODATA NODATA); 'C:\\Users\\subed036\\Documents\\ArcGIS\\Projects\\Lab2part2\\Lab2part2.gdb\\Reclass_Recl2' 34 'Value' (1 1; 2 2; 3 3; 4 4; 5 5; 6 6; 7 7; 8 8; 9 9; 10 1; 11 1; 12 1; NODATA NODATA));1 9 1\"); out_raster.save(r\"C:\\Users\\subed036\\Documents\\ArcGIS\\Projects\\Lab2part2\\Lab2part2.gdb\\Weighte_Extr1\")"
   ]
  },
  {
   "cell_type": "markdown",
   "metadata": {},
   "source": [
    "# Dori starting point"
   ]
  },
  {
   "cell_type": "code",
   "execution_count": 1,
   "metadata": {},
   "outputs": [],
   "source": [
    "with arcpy.EnvManager(scratchWorkspace=r\"C:\\Users\\subed036\\Documents\\ArcGIS\\Projects\\Lab2part2\\Lab2part2.gdb\", workspace=r\"C:\\Users\\subed036\\Documents\\ArcGIS\\Projects\\Lab2part2\\Lab2part2.gdb\"):\n",
    "    arcpy.management.XYTableToPoint(r\"C:\\Users\\subed036\\Downloads\\Dory Starting Point.csv\", r\"C:\\Users\\subed036\\Documents\\ArcGIS\\Projects\\Lab2part2\\Lab2part2.gdb\\DoryStartingPoint_XYTableToPoint\", \"Long\", \"Lat\", None, 'GEOGCS[\"GCS_WGS_1984\",DATUM[\"D_WGS_1984\",SPHEROID[\"WGS_1984\",6378137.0,298.257223563]],PRIMEM[\"Greenwich\",0.0],UNIT[\"Degree\",0.0174532925199433]];-400 -400 1000000000;-100000 10000;-100000 10000;8.98315284119521E-09;0.001;0.001;IsHighPrecision')"
   ]
  },
  {
   "cell_type": "markdown",
   "metadata": {},
   "source": [
    "# Dori ending point"
   ]
  },
  {
   "cell_type": "code",
   "execution_count": 3,
   "metadata": {},
   "outputs": [
    {
     "data": {
      "text/html": [
       "<div class='gpresult'><h2>Messages</h2><div id='messages' data-messages='[\"Start Time: Wednesday, November 2, 2022 8:32:55 PM\",\"Succeeded at Wednesday, November 2, 2022 8:33:00 PM (Elapsed Time: 5.22 seconds)\"]' data-show='true'><div id = 'default' /></div></div>"
      ],
      "text/plain": [
       "<Result 'C:\\\\Users\\\\subed036\\\\Documents\\\\ArcGIS\\\\Projects\\\\Lab2part2\\\\Lab2part2.gdb\\\\DoryEndingPoint_XYTableToPoint'>"
      ]
     },
     "execution_count": 3,
     "metadata": {},
     "output_type": "execute_result"
    }
   ],
   "source": [
    "arcpy.management.XYTableToPoint(r\"C:\\Users\\subed036\\Downloads\\Dory Ending Point.csv\", r\"C:\\Users\\subed036\\Documents\\ArcGIS\\Projects\\Lab2part2\\Lab2part2.gdb\\DoryEndingPoint_XYTableToPoint\", \"Long\", \"Lat\", None, 'GEOGCS[\"GCS_WGS_1984\",DATUM[\"D_WGS_1984\",SPHEROID[\"WGS_1984\",6378137.0,298.257223563]],PRIMEM[\"Greenwich\",0.0],UNIT[\"Degree\",0.0174532925199433]];-400 -400 1000000000;-100000 10000;-100000 10000;8.98315284119521E-09;0.001;0.001;IsHighPrecision')"
   ]
  },
  {
   "cell_type": "code",
   "execution_count": 2,
   "metadata": {},
   "outputs": [
    {
     "data": {
      "text/html": [
       "<div class='gpresult'><h2>Messages</h2><div id='messages' data-messages='[\"Start Time: Wednesday, November 2, 2022 8:32:31 PM\",\"Succeeded at Wednesday, November 2, 2022 8:32:40 PM (Elapsed Time: 8.17 seconds)\"]' data-show='true'><div id = 'default' /></div></div>"
      ],
      "text/plain": [
       "<Result 'C:\\\\Users\\\\subed036\\\\Documents\\\\ArcGIS\\\\Projects\\\\Lab2part2\\\\Lab2part2.gdb\\\\DoryStartingPoint_XYTableToPoint1'>"
      ]
     },
     "execution_count": 2,
     "metadata": {},
     "output_type": "execute_result"
    }
   ],
   "source": [
    "arcpy.management.XYTableToPoint(r\"C:\\Users\\subed036\\Downloads\\Dory Starting Point.csv\", r\"C:\\Users\\subed036\\Documents\\ArcGIS\\Projects\\Lab2part2\\Lab2part2.gdb\\DoryStartingPoint_XYTableToPoint1\", \"Long\", \"Lat\", None, 'GEOGCS[\"GCS_WGS_1984\",DATUM[\"D_WGS_1984\",SPHEROID[\"WGS_1984\",6378137.0,298.257223563]],PRIMEM[\"Greenwich\",0.0],UNIT[\"Degree\",0.0174532925199433]];-400 -400 1000000000;-100000 10000;-100000 10000;8.98315284119521E-09;0.001;0.001;IsHighPrecision')"
   ]
  },
  {
   "cell_type": "markdown",
   "metadata": {},
   "source": [
    "# Cost distance tool"
   ]
  },
  {
   "cell_type": "code",
   "execution_count": 1,
   "metadata": {},
   "outputs": [],
   "source": [
    "out_distance_raster = arcpy.sa.CostDistance(\"DoryStartingPoint_XYTableToPoint1\", \"Weighte_Extr1\", None, None, None, None, None, None, ''); out_distance_raster.save(r\"C:\\Users\\subed036\\Documents\\ArcGIS\\Projects\\Lab2part2\\Lab2part2.gdb\\CostDis_Dory2\")"
   ]
  },
  {
   "cell_type": "markdown",
   "metadata": {},
   "source": [
    "# Cost path as polyline"
   ]
  },
  {
   "cell_type": "code",
   "execution_count": 2,
   "metadata": {},
   "outputs": [
    {
     "data": {
      "text/html": [
       "<div class='gpresult'><h2>Messages</h2><div id='messages' data-messages='[\"Start Time: Wednesday, November 2, 2022 7:39:53 PM\",\"Succeeded at Wednesday, November 2, 2022 7:39:55 PM (Elapsed Time: 2.06 seconds)\"]' data-show='true'><div id = 'default' /></div></div>"
      ],
      "text/plain": [
       "<geoprocessing server result object object at 0x00000121F39B9870>"
      ]
     },
     "execution_count": 2,
     "metadata": {},
     "output_type": "execute_result"
    }
   ],
   "source": [
    "arcpy.sa.CostPathAsPolyline(\"DoryEndingPoint_XYTableToPoint1\", \"CostDis_Dory2\", \"out_raster\", r\"C:\\Users\\subed036\\Documents\\ArcGIS\\Projects\\Lab2part2\\Lab2part2.gdb\\Dorilocation_XYTableToPoint\", \"EACH_CELL\", \"OBJECTID\", \"INPUT_RANGE\")"
   ]
  },
  {
   "cell_type": "code",
   "execution_count": null,
   "metadata": {},
   "outputs": [],
   "source": []
  }
 ],
 "metadata": {
  "kernelspec": {
   "display_name": "ArcGISPro",
   "language": "Python",
   "name": "python3"
  },
  "language_info": {
   "file_extension": ".py",
   "name": "python",
   "version": "3"
  }
 },
 "nbformat": 4,
 "nbformat_minor": 2
}
