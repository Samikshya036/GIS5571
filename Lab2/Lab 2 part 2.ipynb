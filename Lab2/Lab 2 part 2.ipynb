{
 "cells": [
  {
   "cell_type": "code",
   "execution_count": 19,
   "metadata": {},
   "outputs": [],
   "source": [
    "import arcpy\n",
    "import requests\n",
    "import os\n",
    "import zipfile\n",
    "import io"
   ]
  },
  {
   "cell_type": "code",
   "execution_count": 20,
   "metadata": {},
   "outputs": [],
   "source": [
    "working_dir = r'C:\\Users\\subed036\\Documents\\ArcGIS\\Projects\\LAB2'"
   ]
  },
  {
   "cell_type": "code",
   "execution_count": 21,
   "metadata": {},
   "outputs": [
    {
     "data": {
      "text/plain": [
       "'https://prism.oregonstate.edu/fetchData.php'"
      ]
     },
     "execution_count": 21,
     "metadata": {},
     "output_type": "execute_result"
    }
   ],
   "source": [
    "PRISM_request_URL = r'https://prism.oregonstate.edu/fetchData.php'\n",
    "PRISM_request_URL"
   ]
  },
  {
   "cell_type": "code",
   "execution_count": 22,
   "metadata": {},
   "outputs": [
    {
     "data": {
      "text/plain": [
       "'type=all_bil&kind=normals&spatial=4km&elem=ppt&temporal=annual'"
      ]
     },
     "execution_count": 22,
     "metadata": {},
     "output_type": "execute_result"
    }
   ],
   "source": [
    "PRISM_params = r'type=all_bil&kind=normals&spatial=4km&elem=ppt&temporal=annual'\n",
    "PRISM_params"
   ]
  },
  {
   "cell_type": "code",
   "execution_count": 23,
   "metadata": {},
   "outputs": [],
   "source": [
    "final_PRISM_path = PRISM_request_URL + '?' + PRISM_params"
   ]
  },
  {
   "cell_type": "code",
   "execution_count": 24,
   "metadata": {},
   "outputs": [
    {
     "name": "stdout",
     "output_type": "stream",
     "text": [
      "https://prism.oregonstate.edu/fetchData.php?type=all_bil&kind=normals&spatial=4km&elem=ppt&temporal=annual\n"
     ]
    }
   ],
   "source": [
    "print(final_PRISM_path)"
   ]
  },
  {
   "cell_type": "code",
   "execution_count": 25,
   "metadata": {},
   "outputs": [],
   "source": [
    "PRISM_post_request = requests.post(final_PRISM_path)"
   ]
  },
  {
   "cell_type": "code",
   "execution_count": 26,
   "metadata": {},
   "outputs": [
    {
     "data": {
      "text/plain": [
       "<Response [200]>"
      ]
     },
     "execution_count": 26,
     "metadata": {},
     "output_type": "execute_result"
    }
   ],
   "source": [
    "PRISM_post_request"
   ]
  },
  {
   "cell_type": "code",
   "execution_count": 27,
   "metadata": {},
   "outputs": [],
   "source": [
    "ourzipfile = zipfile.ZipFile(\n",
    "    io.BytesIO(\n",
    "        PRISM_post_request.content)\n",
    ")"
   ]
  },
  {
   "cell_type": "code",
   "execution_count": 28,
   "metadata": {},
   "outputs": [
    {
     "data": {
      "text/plain": [
       "<zipfile.ZipFile file=<_io.BytesIO object at 0x00000195F4E17950> mode='r'>"
      ]
     },
     "execution_count": 28,
     "metadata": {},
     "output_type": "execute_result"
    }
   ],
   "source": [
    "ourzipfile"
   ]
  },
  {
   "cell_type": "code",
   "execution_count": 29,
   "metadata": {},
   "outputs": [
    {
     "data": {
      "text/plain": [
       "'C:\\\\Users\\\\subed036\\\\Documents\\\\ArcGIS\\\\Projects\\\\LAB2\\\\bils'"
      ]
     },
     "execution_count": 29,
     "metadata": {},
     "output_type": "execute_result"
    }
   ],
   "source": [
    "bilsfolder = os.path.join(working_dir, 'bils')\n",
    "bilsfolder"
   ]
  },
  {
   "cell_type": "code",
   "execution_count": 30,
   "metadata": {},
   "outputs": [],
   "source": [
    "ourzipfile.extractall(bilsfolder)"
   ]
  },
  {
   "cell_type": "markdown",
   "metadata": {},
   "source": [
    "# Convert to tif"
   ]
  },
  {
   "cell_type": "code",
   "execution_count": 2,
   "metadata": {},
   "outputs": [
    {
     "data": {
      "text/html": [
       "<div class='gpresult'><h2>Messages</h2><div id='messages' data-messages='[\"Start Time: Sunday, October 30, 2022 6:13:40 PM\",\"Successfully converted: C:\\\\Users\\\\subed036\\\\Documents\\\\ArcGIS\\\\Projects\\\\LAB2\\\\bils\\\\PRISM_ppt_30yr_normal_4kmM3_01_bil.bil To C:\\\\Users\\\\subed036\\\\Documents\\\\ArcGIS\\\\Projects\\\\LAB2\\\\bils\\\\PRISM_ppt_30yr_normal_4kmM3_01_bil_16.tif\",\"Successfully converted: C:\\\\Users\\\\subed036\\\\Documents\\\\ArcGIS\\\\Projects\\\\LAB2\\\\bils\\\\PRISM_ppt_30yr_normal_4kmM3_01_bil.tif To C:\\\\Users\\\\subed036\\\\Documents\\\\ArcGIS\\\\Projects\\\\LAB2\\\\bils\\\\PRISM_ppt_30yr_normal_4kmM3_01_bil_17.tif\",\"Successfully converted: C:\\\\Users\\\\subed036\\\\Documents\\\\ArcGIS\\\\Projects\\\\LAB2\\\\bils\\\\PRISM_ppt_30yr_normal_4kmM3_01_bil_1.tif To C:\\\\Users\\\\subed036\\\\Documents\\\\ArcGIS\\\\Projects\\\\LAB2\\\\bils\\\\PRISM_ppt_30yr_normal_4kmM3_01_bil_1_8.tif\",\"Successfully converted: C:\\\\Users\\\\subed036\\\\Documents\\\\ArcGIS\\\\Projects\\\\LAB2\\\\bils\\\\PRISM_ppt_30yr_normal_4kmM3_02_bil.bil To C:\\\\Users\\\\subed036\\\\Documents\\\\ArcGIS\\\\Projects\\\\LAB2\\\\bils\\\\PRISM_ppt_30yr_normal_4kmM3_02_bil_7.tif\",\"Successfully converted: C:\\\\Users\\\\subed036\\\\Documents\\\\ArcGIS\\\\Projects\\\\LAB2\\\\bils\\\\PRISM_ppt_30yr_normal_4kmM3_03_bil.bil To C:\\\\Users\\\\subed036\\\\Documents\\\\ArcGIS\\\\Projects\\\\LAB2\\\\bils\\\\PRISM_ppt_30yr_normal_4kmM3_03_bil_7.tif\",\"Successfully converted: C:\\\\Users\\\\subed036\\\\Documents\\\\ArcGIS\\\\Projects\\\\LAB2\\\\bils\\\\PRISM_ppt_30yr_normal_4kmM3_04_bil.bil To C:\\\\Users\\\\subed036\\\\Documents\\\\ArcGIS\\\\Projects\\\\LAB2\\\\bils\\\\PRISM_ppt_30yr_normal_4kmM3_04_bil_7.tif\",\"Successfully converted: C:\\\\Users\\\\subed036\\\\Documents\\\\ArcGIS\\\\Projects\\\\LAB2\\\\bils\\\\PRISM_ppt_30yr_normal_4kmM3_05_bil.bil To C:\\\\Users\\\\subed036\\\\Documents\\\\ArcGIS\\\\Projects\\\\LAB2\\\\bils\\\\PRISM_ppt_30yr_normal_4kmM3_05_bil_7.tif\",\"Successfully converted: C:\\\\Users\\\\subed036\\\\Documents\\\\ArcGIS\\\\Projects\\\\LAB2\\\\bils\\\\PRISM_ppt_30yr_normal_4kmM3_06_bil.bil To C:\\\\Users\\\\subed036\\\\Documents\\\\ArcGIS\\\\Projects\\\\LAB2\\\\bils\\\\PRISM_ppt_30yr_normal_4kmM3_06_bil_7.tif\",\"Successfully converted: C:\\\\Users\\\\subed036\\\\Documents\\\\ArcGIS\\\\Projects\\\\LAB2\\\\bils\\\\PRISM_ppt_30yr_normal_4kmM3_07_bil.bil To C:\\\\Users\\\\subed036\\\\Documents\\\\ArcGIS\\\\Projects\\\\LAB2\\\\bils\\\\PRISM_ppt_30yr_normal_4kmM3_07_bil_7.tif\",\"Successfully converted: C:\\\\Users\\\\subed036\\\\Documents\\\\ArcGIS\\\\Projects\\\\LAB2\\\\bils\\\\PRISM_ppt_30yr_normal_4kmM3_08_bil.bil To C:\\\\Users\\\\subed036\\\\Documents\\\\ArcGIS\\\\Projects\\\\LAB2\\\\bils\\\\PRISM_ppt_30yr_normal_4kmM3_08_bil_7.tif\",\"Successfully converted: C:\\\\Users\\\\subed036\\\\Documents\\\\ArcGIS\\\\Projects\\\\LAB2\\\\bils\\\\PRISM_ppt_30yr_normal_4kmM3_09_bil.bil To C:\\\\Users\\\\subed036\\\\Documents\\\\ArcGIS\\\\Projects\\\\LAB2\\\\bils\\\\PRISM_ppt_30yr_normal_4kmM3_09_bil_7.tif\",\"Successfully converted: C:\\\\Users\\\\subed036\\\\Documents\\\\ArcGIS\\\\Projects\\\\LAB2\\\\bils\\\\PRISM_ppt_30yr_normal_4kmM3_10_bil.bil To C:\\\\Users\\\\subed036\\\\Documents\\\\ArcGIS\\\\Projects\\\\LAB2\\\\bils\\\\PRISM_ppt_30yr_normal_4kmM3_10_bil_7.tif\",\"Successfully converted: C:\\\\Users\\\\subed036\\\\Documents\\\\ArcGIS\\\\Projects\\\\LAB2\\\\bils\\\\PRISM_ppt_30yr_normal_4kmM3_11_bil.bil To C:\\\\Users\\\\subed036\\\\Documents\\\\ArcGIS\\\\Projects\\\\LAB2\\\\bils\\\\PRISM_ppt_30yr_normal_4kmM3_11_bil_7.tif\",\"Successfully converted: C:\\\\Users\\\\subed036\\\\Documents\\\\ArcGIS\\\\Projects\\\\LAB2\\\\bils\\\\PRISM_ppt_30yr_normal_4kmM3_12_bil.bil To C:\\\\Users\\\\subed036\\\\Documents\\\\ArcGIS\\\\Projects\\\\LAB2\\\\bils\\\\PRISM_ppt_30yr_normal_4kmM3_12_bil_7.tif\",\"Successfully converted: C:\\\\Users\\\\subed036\\\\Documents\\\\ArcGIS\\\\Projects\\\\LAB2\\\\bils\\\\PRISM_ppt_30yr_normal_4kmM3_annual_bil.bil To C:\\\\Users\\\\subed036\\\\Documents\\\\ArcGIS\\\\Projects\\\\LAB2\\\\bils\\\\PRISM_ppt_30yr_normal_4kmM3_annual_bil_7.tif\",\"Succeeded at Sunday, October 30, 2022 6:13:53 PM (Elapsed Time: 13.23 seconds)\"]' data-show='true'><div id = 'default' /></div></div>"
      ],
      "text/plain": [
       "<Result ''>"
      ]
     },
     "execution_count": 2,
     "metadata": {},
     "output_type": "execute_result"
    }
   ],
   "source": [
    "arcpy.conversion.RasterToOtherFormat(r\"C:\\Users\\subed036\\Documents\\ArcGIS\\Projects\\LAB2\\bils\\PRISM_ppt_30yr_normal_4kmM3_01_bil.bil;C:\\Users\\subed036\\Documents\\ArcGIS\\Projects\\LAB2\\bils\\PRISM_ppt_30yr_normal_4kmM3_01_bil.tif;C:\\Users\\subed036\\Documents\\ArcGIS\\Projects\\LAB2\\bils\\PRISM_ppt_30yr_normal_4kmM3_01_bil_1.tif;C:\\Users\\subed036\\Documents\\ArcGIS\\Projects\\LAB2\\bils\\PRISM_ppt_30yr_normal_4kmM3_02_bil.bil;C:\\Users\\subed036\\Documents\\ArcGIS\\Projects\\LAB2\\bils\\PRISM_ppt_30yr_normal_4kmM3_03_bil.bil;C:\\Users\\subed036\\Documents\\ArcGIS\\Projects\\LAB2\\bils\\PRISM_ppt_30yr_normal_4kmM3_04_bil.bil;C:\\Users\\subed036\\Documents\\ArcGIS\\Projects\\LAB2\\bils\\PRISM_ppt_30yr_normal_4kmM3_05_bil.bil;C:\\Users\\subed036\\Documents\\ArcGIS\\Projects\\LAB2\\bils\\PRISM_ppt_30yr_normal_4kmM3_06_bil.bil;C:\\Users\\subed036\\Documents\\ArcGIS\\Projects\\LAB2\\bils\\PRISM_ppt_30yr_normal_4kmM3_07_bil.bil;C:\\Users\\subed036\\Documents\\ArcGIS\\Projects\\LAB2\\bils\\PRISM_ppt_30yr_normal_4kmM3_08_bil.bil;C:\\Users\\subed036\\Documents\\ArcGIS\\Projects\\LAB2\\bils\\PRISM_ppt_30yr_normal_4kmM3_09_bil.bil;C:\\Users\\subed036\\Documents\\ArcGIS\\Projects\\LAB2\\bils\\PRISM_ppt_30yr_normal_4kmM3_10_bil.bil;C:\\Users\\subed036\\Documents\\ArcGIS\\Projects\\LAB2\\bils\\PRISM_ppt_30yr_normal_4kmM3_11_bil.bil;C:\\Users\\subed036\\Documents\\ArcGIS\\Projects\\LAB2\\bils\\PRISM_ppt_30yr_normal_4kmM3_12_bil.bil;C:\\Users\\subed036\\Documents\\ArcGIS\\Projects\\LAB2\\bils\\PRISM_ppt_30yr_normal_4kmM3_annual_bil.bil\", r\"C:\\Users\\subed036\\Documents\\ArcGIS\\Projects\\LAB2\\bils\", \"TIFF\")"
   ]
  },
  {
   "cell_type": "code",
   "execution_count": 37,
   "metadata": {},
   "outputs": [
    {
     "data": {
      "text/html": [
       "<div class='gpresult'><h2>Messages</h2><div id='messages' data-messages='[\"Start Time: Sunday, October 30, 2022 2:09:55 AM\",\"Succeeded at Sunday, October 30, 2022 2:10:00 AM (Elapsed Time: 5.13 seconds)\"]' data-show='true'><div id = 'default' /></div></div>"
      ],
      "text/plain": [
       "<Result 'C:\\\\Users\\\\subed036\\\\Documents\\\\ArcGIS\\\\Projects\\\\LAB2\\\\LAB2.gdb\\\\mosaic'>"
      ]
     },
     "execution_count": 37,
     "metadata": {},
     "output_type": "execute_result"
    }
   ],
   "source": [
    "arcpy.management.CreateMosaicDataset(r\"C:\\Users\\subed036\\Documents\\ArcGIS\\Projects\\LAB2\\LAB2.gdb\", \"mosaic\", 'PROJCS[\"WGS_1984_Web_Mercator_Auxiliary_Sphere\",GEOGCS[\"GCS_WGS_1984\",DATUM[\"D_WGS_1984\",SPHEROID[\"WGS_1984\",6378137.0,298.257223563]],PRIMEM[\"Greenwich\",0.0],UNIT[\"Degree\",0.0174532925199433]],PROJECTION[\"Mercator_Auxiliary_Sphere\"],PARAMETER[\"False_Easting\",0.0],PARAMETER[\"False_Northing\",0.0],PARAMETER[\"Central_Meridian\",0.0],PARAMETER[\"Standard_Parallel_1\",0.0],PARAMETER[\"Auxiliary_Sphere_Type\",0.0],UNIT[\"Meter\",1.0]]', None, '', \"NONE\", None)"
   ]
  },
  {
   "cell_type": "code",
   "execution_count": 3,
   "metadata": {},
   "outputs": [
    {
     "data": {
      "text/html": [
       "<div class='gpresult'><h2>Messages</h2><div id='messages' data-messages='[\"Start Time: Sunday, October 30, 2022 6:28:43 PM\",\"2022-10-30T18:28:44.264: Loading raster datasets\",\"2022-10-30T18:28:44.320: Completed crawling 12 data source items. Added 12 mosaic dataset items.\",\"2022-10-30T18:28:44.392: Synchronizing crawled data source items\",\"2022-10-30T18:28:44.401: Synchronizing items associated with raster type instance &#39;Raster Dataset&#39; [ID: 2].\",\"2022-10-30T18:28:44.592: Completed synchronization: 12 items selected, 12 items synchronized.\",\"2022-10-30T18:28:44.602: Computing cell size levels\",\"2022-10-30T18:28:44.602: Computing unique cell size values\",\"2022-10-30T18:28:44.663: Computing maximum cell size values\",\"2022-10-30T18:28:44.669: Computing minimum cell size values\",\"2022-10-30T18:28:44.674: Updating visibility values of selected items\",\"2022-10-30T18:28:44.705: Computing maximum cell size for mosaic dataset\",\"2022-10-30T18:28:44.717: Completed computing cell size ranges.\",\"2022-10-30T18:28:44.773: Completed building boundary.\",\"Succeeded at Sunday, October 30, 2022 6:28:45 PM (Elapsed Time: 1.82 seconds)\"]' data-show='true'><div id = 'default' /></div></div>"
      ],
      "text/plain": [
       "<Result 'C:\\\\Users\\\\subed036\\\\Documents\\\\ArcGIS\\\\Projects\\\\LAB2\\\\LAB2.gdb\\\\mosaic'>"
      ]
     },
     "execution_count": 3,
     "metadata": {},
     "output_type": "execute_result"
    }
   ],
   "source": [
    "arcpy.management.AddRastersToMosaicDataset(r\"C:\\Users\\subed036\\Documents\\ArcGIS\\Projects\\LAB2\\LAB2.gdb\\mosaic\", \"Raster Dataset\", r\"C:\\Users\\subed036\\Documents\\ArcGIS\\Projects\\LAB2\\bils\\PRISM_ppt_30yr_normal_4kmM3_01_bil.tif;C:\\Users\\subed036\\Documents\\ArcGIS\\Projects\\LAB2\\bils\\PRISM_ppt_30yr_normal_4kmM3_01_bil_2.tif;C:\\Users\\subed036\\Documents\\ArcGIS\\Projects\\LAB2\\bils\\PRISM_ppt_30yr_normal_4kmM3_03_bil.tif;C:\\Users\\subed036\\Documents\\ArcGIS\\Projects\\LAB2\\bils\\PRISM_ppt_30yr_normal_4kmM3_04_bil.tif;C:\\Users\\subed036\\Documents\\ArcGIS\\Projects\\LAB2\\bils\\PRISM_ppt_30yr_normal_4kmM3_05_bil.tif;C:\\Users\\subed036\\Documents\\ArcGIS\\Projects\\LAB2\\bils\\PRISM_ppt_30yr_normal_4kmM3_06_bil.tif;C:\\Users\\subed036\\Documents\\ArcGIS\\Projects\\LAB2\\bils\\PRISM_ppt_30yr_normal_4kmM3_07_bil.tif;C:\\Users\\subed036\\Documents\\ArcGIS\\Projects\\LAB2\\bils\\PRISM_ppt_30yr_normal_4kmM3_08_bil.tif;C:\\Users\\subed036\\Documents\\ArcGIS\\Projects\\LAB2\\bils\\PRISM_ppt_30yr_normal_4kmM3_09_bil.tif;C:\\Users\\subed036\\Documents\\ArcGIS\\Projects\\LAB2\\bils\\PRISM_ppt_30yr_normal_4kmM3_10_bil.tif;C:\\Users\\subed036\\Documents\\ArcGIS\\Projects\\LAB2\\bils\\PRISM_ppt_30yr_normal_4kmM3_11_bil.tif;C:\\Users\\subed036\\Documents\\ArcGIS\\Projects\\LAB2\\bils\\PRISM_ppt_30yr_normal_4kmM3_12_bil.tif\", \"UPDATE_CELL_SIZES\", \"UPDATE_BOUNDARY\", \"NO_OVERVIEWS\", None, 0, 1500, None, '', \"SUBFOLDERS\", \"ALLOW_DUPLICATES\", \"NO_PYRAMIDS\", \"NO_STATISTICS\", \"NO_THUMBNAILS\", '', \"NO_FORCE_SPATIAL_REFERENCE\", \"NO_STATISTICS\", None, \"NO_PIXEL_CACHE\", r\"C:\\Users\\subed036\\AppData\\Local\\ESRI\\rasterproxies\\mosaic\")"
   ]
  },
  {
   "cell_type": "markdown",
   "metadata": {},
   "source": [
    "# Add timestamp"
   ]
  },
  {
   "cell_type": "code",
   "execution_count": 39,
   "metadata": {},
   "outputs": [
    {
     "data": {
      "text/html": [
       "<div class='gpresult'><h2>Messages</h2><div id='messages' data-messages='[\"Start Time: Sunday, October 30, 2022 2:10:13 AM\",\"Adding Timestamp to AMD_mosaic_CAT...\",\"Succeeded at Sunday, October 30, 2022 2:10:14 AM (Elapsed Time: 1.35 seconds)\"]' data-show='true'><div id = 'default' /></div></div>"
      ],
      "text/plain": [
       "<Result 'C:\\\\Users\\\\subed036\\\\Documents\\\\ArcGIS\\\\Projects\\\\LAB2\\\\LAB2.gdb\\\\mosaic'>"
      ]
     },
     "execution_count": 39,
     "metadata": {},
     "output_type": "execute_result"
    }
   ],
   "source": [
    "arcpy.management.CalculateField(r\"C:\\Users\\subed036\\Documents\\ArcGIS\\Projects\\LAB2\\LAB2.gdb\\mosaic\", \"Timestamp\", \"DateAdd(Date(2020,0,1),$feature.OBJECTID-1,'month')\",\"ARCADE\", '', \"TEXT\")"
   ]
  },
  {
   "cell_type": "code",
   "execution_count": 4,
   "metadata": {
    "scrolled": true
   },
   "outputs": [
    {
     "data": {
      "text/html": [
       "<div class='gpresult'><h2>Messages</h2><div id='messages' data-messages='[\"Start Time: Sunday, October 30, 2022 2:26:11 AM\",\"Succeeded at Sunday, October 30, 2022 2:26:12 AM (Elapsed Time: 0.37 seconds)\"]' data-show='true'><div id = 'default' /></div></div>"
      ],
      "text/plain": [
       "<Result 'C:\\\\Users\\\\subed036\\\\Documents\\\\ArcGIS\\\\Projects\\\\LAB2\\\\LAB2.gdb\\\\mosaic'>"
      ]
     },
     "execution_count": 4,
     "metadata": {},
     "output_type": "execute_result"
    }
   ],
   "source": [
    "arcpy.management.CalculateField(r\"C:\\Users\\subed036\\Documents\\ArcGIS\\Projects\\LAB2\\LAB2.gdb\\mosaic\", \"Timestamp\", \"$feature.OBJECTID\", \"ARCADE\", '', \"TEXT\", \"NO_ENFORCE_DOMAINS\")"
   ]
  },
  {
   "cell_type": "markdown",
   "metadata": {},
   "source": [
    "# Build Multidimensional Info"
   ]
  },
  {
   "cell_type": "code",
   "execution_count": 5,
   "metadata": {},
   "outputs": [
    {
     "data": {
      "text/html": [
       "<div class='gpresult'><h2>Messages</h2><div id='messages' data-messages='[\"Start Time: Sunday, October 30, 2022 2:26:34 AM\",\"Succeeded at Sunday, October 30, 2022 2:26:35 AM (Elapsed Time: 1.45 seconds)\"]' data-show='true'><div id = 'default' /></div></div>"
      ],
      "text/plain": [
       "<Result 'C:\\\\Users\\\\subed036\\\\Documents\\\\ArcGIS\\\\Projects\\\\LAB2\\\\LAB2.gdb\\\\mosaic'>"
      ]
     },
     "execution_count": 5,
     "metadata": {},
     "output_type": "execute_result"
    }
   ],
   "source": [
    "arcpy.md.BuildMultidimensionalInfo(\"mosaic\", \"Variable\", \"Timestamp # #\", \"mosaic # #\")"
   ]
  },
  {
   "cell_type": "markdown",
   "metadata": {},
   "source": [
    "# Make Multidimensional Raster layer"
   ]
  },
  {
   "cell_type": "code",
   "execution_count": 4,
   "metadata": {},
   "outputs": [
    {
     "data": {
      "text/plain": [
       "'C:\\\\Users\\\\subed036\\\\Documents\\\\ArcGIS\\\\Projects\\\\LAB2\\\\mosaic_MultidimLayer_1.nc'"
      ]
     },
     "execution_count": 4,
     "metadata": {},
     "output_type": "execute_result"
    }
   ],
   "source": [
    "arcpy.md.MakeMultidimensionalRasterLayer(r\"C:\\Users\\subed036\\Documents\\ArcGIS\\Projects\\LAB2\\LAB2.gdb\\mosaic\", \"mosaic_MultidimLayer12\", \"mosaic\", \"ALL\", None, None, '', '', '', None, '', '-13917257.2777 2761917.52169259 -7400428.75412497 6435460.7179 PROJCS[\"WGS_1984_Web_Mercator_Auxiliary_Sphere\",GEOGCS[\"GCS_WGS_1984\",DATUM[\"D_WGS_1984\",SPHEROID[\"WGS_1984\",6378137.0,298.257223563]],PRIMEM[\"Greenwich\",0.0],UNIT[\"Degree\",0.0174532925199433]],PROJECTION[\"Mercator_Auxiliary_Sphere\"],PARAMETER[\"False_Easting\",0.0],PARAMETER[\"False_Northing\",0.0],PARAMETER[\"Central_Meridian\",0.0],PARAMETER[\"Standard_Parallel_1\",0.0],PARAMETER[\"Auxiliary_Sphere_Type\",0.0],UNIT[\"Meter\",1.0]]', \"DIMENSIONS\", None)"
   ]
  }
 ],
 "metadata": {
  "kernelspec": {
   "display_name": "ArcGISPro",
   "language": "Python",
   "name": "python3"
  },
  "language_info": {
   "file_extension": ".py",
   "name": "python",
   "version": "3"
  }
 },
 "nbformat": 4,
 "nbformat_minor": 2
}
